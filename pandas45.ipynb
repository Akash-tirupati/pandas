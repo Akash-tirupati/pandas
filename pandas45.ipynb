{
 "cells": [
  {
   "cell_type": "markdown",
   "metadata": {},
   "source": [
    "# Slicing & Indexing\n",
    "\n",
    "## Explicit Indexes"
   ]
  },
  {
   "cell_type": "markdown",
   "metadata": {},
   "source": [
    "Solve the followong questions: (3 marks)\n",
    "\n",
    "Read the weather data and print it.\n",
    "\n",
    "Q1. Show the name of columns.\n",
    "\n",
    "Q2. Set RainToday as index value\n",
    "\n",
    "Q3. Reindex the index value to its previous state."
   ]
  },
  {
   "cell_type": "code",
   "execution_count": 54,
   "metadata": {},
   "outputs": [
    {
     "name": "stdout",
     "output_type": "stream",
     "text": [
      "   MinTemp  MaxTemp  Rainfall  WindGustSpeed RainToday RainTomorrow  \\\n",
      "0      8.0     24.3       0.0             30        No          Yes   \n",
      "1     14.0     26.9       3.6             39       Yes          Yes   \n",
      "2     13.7     23.4       3.6             85       Yes          Yes   \n",
      "3     13.3     15.5      39.8             54       Yes          Yes   \n",
      "4      7.6     16.1       2.8             50       Yes           No   \n",
      "5      6.2     16.9       0.0             44        No           No   \n",
      "6      6.1     18.2       0.2             43        No           No   \n",
      "7      8.3     17.0       0.0             41        No           No   \n",
      "8      8.8     19.5       0.0             48        No          Yes   \n",
      "9      8.4     22.8      16.2             31       Yes           No   \n",
      "\n",
      "         Date  \n",
      "0  01/01/2020  \n",
      "1  10/02/2020  \n",
      "2  15/03/2020  \n",
      "3  10/04/2020  \n",
      "4  15/05/2020  \n",
      "5  10/06/2020  \n",
      "6  17/07/2020  \n",
      "7  28/08/2020  \n",
      "8  29/10/2020  \n",
      "9  21/12/2020  \n"
     ]
    }
   ],
   "source": [
    "# read the weather data and print it\n",
    "import pandas as pd\n",
    "\n",
    "## Start the code here\n",
    "weather = pd.read_csv(\"weather.csv\")\n",
    "print(weather)\n",
    "## End here"
   ]
  },
  {
   "cell_type": "code",
   "execution_count": 20,
   "metadata": {},
   "outputs": [
    {
     "data": {
      "text/plain": [
       "Index(['MinTemp', 'MaxTemp', 'Rainfall', 'WindGustSpeed', 'RainToday',\n",
       "       'RainTomorrow', 'Date'],\n",
       "      dtype='object')"
      ]
     },
     "execution_count": 20,
     "metadata": {},
     "output_type": "execute_result"
    }
   ],
   "source": [
    "#1\n",
    "## Start the code here\n",
    "weather.columns\n",
    "## End here"
   ]
  },
  {
   "cell_type": "code",
   "execution_count": 13,
   "metadata": {},
   "outputs": [
    {
     "name": "stdout",
     "output_type": "stream",
     "text": [
      "           MaxTemp  Rainfall  WindGustSpeed RainTomorrow        Date\n",
      "RainToday                                                           \n",
      "No            24.3       0.0             30          Yes  2020-01-01\n",
      "Yes           26.9       3.6             39          Yes  2020-02-10\n",
      "Yes           23.4       3.6             85          Yes  2020-03-15\n",
      "Yes           15.5      39.8             54          Yes  2020-04-10\n",
      "Yes           16.1       2.8             50           No  2020-05-15\n",
      "No            16.9       0.0             44           No  2020-06-10\n",
      "No            18.2       0.2             43           No  2020-07-17\n",
      "No            17.0       0.0             41           No  2020-08-28\n",
      "No            19.5       0.0             48          Yes  2020-10-29\n",
      "Yes           22.8      16.2             31           No  2020-12-21\n"
     ]
    }
   ],
   "source": [
    "#2\n",
    "## Start the code here\n",
    "index = weather.set_index(\"RainToday\")\n",
    "print(index)\n",
    "## End here"
   ]
  },
  {
   "cell_type": "code",
   "execution_count": 19,
   "metadata": {},
   "outputs": [
    {
     "name": "stdout",
     "output_type": "stream",
     "text": [
      "  RainToday  MaxTemp  Rainfall  WindGustSpeed RainTomorrow        Date\n",
      "0        No     24.3       0.0             30          Yes  2020-01-01\n",
      "1       Yes     26.9       3.6             39          Yes  2020-02-10\n",
      "2       Yes     23.4       3.6             85          Yes  2020-03-15\n",
      "3       Yes     15.5      39.8             54          Yes  2020-04-10\n",
      "4       Yes     16.1       2.8             50           No  2020-05-15\n",
      "5        No     16.9       0.0             44           No  2020-06-10\n",
      "6        No     18.2       0.2             43           No  2020-07-17\n",
      "7        No     17.0       0.0             41           No  2020-08-28\n",
      "8        No     19.5       0.0             48          Yes  2020-10-29\n",
      "9       Yes     22.8      16.2             31           No  2020-12-21\n"
     ]
    }
   ],
   "source": [
    "#3\n",
    "## Start the code here\n",
    "reindex = index.reset_index()\n",
    "print(reindex)\n",
    "## End here"
   ]
  },
  {
   "cell_type": "markdown",
   "metadata": {},
   "source": [
    "Solve the follwong questions:(7 marks)\n",
    "\n",
    "**Subsetting from indexes**  \n",
    "\n",
    "Q1. Subset Rainfall value from **(0.0 to 3.6)**\n",
    "\n",
    "Q2. Set **\"RainTomorrow\"** as an index value\n",
    "\n",
    "Q3. subset its 'Yes' value.\n",
    "\n",
    "**Multi-level indexes** \n",
    "\n",
    "Q4. Set **RainToday** & **RainTomorrow** as multilevel index.\n",
    "\n",
    "Q5. Subset outer level keeping its value 'No'. \n",
    "\n",
    "Q6. Subset inner levels with list of tuples keeping the values (\"No\",\"Yes\") (\"Yes\",\"No\")\n",
    "\n",
    "**Sorting by index value**\n",
    "\n",
    "Q7. Sort the table by index value"
   ]
  },
  {
   "cell_type": "code",
   "execution_count": 4,
   "metadata": {},
   "outputs": [
    {
     "data": {
      "text/plain": [
       "0    0.0\n",
       "1    3.6\n",
       "2    3.6\n",
       "Name: Rainfall, dtype: float64"
      ]
     },
     "execution_count": 4,
     "metadata": {},
     "output_type": "execute_result"
    }
   ],
   "source": [
    "#1 \n",
    "## Start the code here\n",
    "import pandas as pd\n",
    "weather=pd.read_csv(\"weather.csv\")\n",
    "slice=weather[\"Rainfall\"]\n",
    "slice.iloc[0:3]\n",
    "## End here"
   ]
  },
  {
   "cell_type": "code",
   "execution_count": 17,
   "metadata": {},
   "outputs": [
    {
     "name": "stdout",
     "output_type": "stream",
     "text": [
      "              MinTemp  MaxTemp  Rainfall  WindGustSpeed RainToday        Date\n",
      "RainTomorrow                                                                 \n",
      "Yes               8.0     24.3       0.0             30        No  2020-01-01\n",
      "Yes              14.0     26.9       3.6             39       Yes  2020-02-10\n",
      "Yes              13.7     23.4       3.6             85       Yes  2020-03-15\n",
      "Yes              13.3     15.5      39.8             54       Yes  2020-04-10\n",
      "No                7.6     16.1       2.8             50       Yes  2020-05-15\n",
      "No                6.2     16.9       0.0             44        No  2020-06-10\n",
      "No                6.1     18.2       0.2             43        No  2020-07-17\n",
      "No                8.3     17.0       0.0             41        No  2020-08-28\n",
      "Yes               8.8     19.5       0.0             48        No  2020-10-29\n",
      "No                8.4     22.8      16.2             31       Yes  2020-12-21\n"
     ]
    }
   ],
   "source": [
    "#2 \n",
    "## Start the code here\n",
    "ind = weather.set_index(\"RainTomorrow\")\n",
    "print(ind)\n",
    "## End here"
   ]
  },
  {
   "cell_type": "code",
   "execution_count": 18,
   "metadata": {},
   "outputs": [
    {
     "data": {
      "text/html": [
       "<div>\n",
       "<style scoped>\n",
       "    .dataframe tbody tr th:only-of-type {\n",
       "        vertical-align: middle;\n",
       "    }\n",
       "\n",
       "    .dataframe tbody tr th {\n",
       "        vertical-align: top;\n",
       "    }\n",
       "\n",
       "    .dataframe thead th {\n",
       "        text-align: right;\n",
       "    }\n",
       "</style>\n",
       "<table border=\"1\" class=\"dataframe\">\n",
       "  <thead>\n",
       "    <tr style=\"text-align: right;\">\n",
       "      <th></th>\n",
       "      <th>MinTemp</th>\n",
       "      <th>MaxTemp</th>\n",
       "      <th>Rainfall</th>\n",
       "      <th>WindGustSpeed</th>\n",
       "      <th>RainToday</th>\n",
       "      <th>RainTomorrow</th>\n",
       "      <th>Date</th>\n",
       "    </tr>\n",
       "  </thead>\n",
       "  <tbody>\n",
       "    <tr>\n",
       "      <th>0</th>\n",
       "      <td>8.0</td>\n",
       "      <td>24.3</td>\n",
       "      <td>0.0</td>\n",
       "      <td>30</td>\n",
       "      <td>No</td>\n",
       "      <td>Yes</td>\n",
       "      <td>2020-01-01</td>\n",
       "    </tr>\n",
       "    <tr>\n",
       "      <th>1</th>\n",
       "      <td>14.0</td>\n",
       "      <td>26.9</td>\n",
       "      <td>3.6</td>\n",
       "      <td>39</td>\n",
       "      <td>Yes</td>\n",
       "      <td>Yes</td>\n",
       "      <td>2020-02-10</td>\n",
       "    </tr>\n",
       "    <tr>\n",
       "      <th>2</th>\n",
       "      <td>13.7</td>\n",
       "      <td>23.4</td>\n",
       "      <td>3.6</td>\n",
       "      <td>85</td>\n",
       "      <td>Yes</td>\n",
       "      <td>Yes</td>\n",
       "      <td>2020-03-15</td>\n",
       "    </tr>\n",
       "    <tr>\n",
       "      <th>3</th>\n",
       "      <td>13.3</td>\n",
       "      <td>15.5</td>\n",
       "      <td>39.8</td>\n",
       "      <td>54</td>\n",
       "      <td>Yes</td>\n",
       "      <td>Yes</td>\n",
       "      <td>2020-04-10</td>\n",
       "    </tr>\n",
       "    <tr>\n",
       "      <th>8</th>\n",
       "      <td>8.8</td>\n",
       "      <td>19.5</td>\n",
       "      <td>0.0</td>\n",
       "      <td>48</td>\n",
       "      <td>No</td>\n",
       "      <td>Yes</td>\n",
       "      <td>2020-10-29</td>\n",
       "    </tr>\n",
       "  </tbody>\n",
       "</table>\n",
       "</div>"
      ],
      "text/plain": [
       "   MinTemp  MaxTemp  Rainfall  WindGustSpeed RainToday RainTomorrow  \\\n",
       "0      8.0     24.3       0.0             30        No          Yes   \n",
       "1     14.0     26.9       3.6             39       Yes          Yes   \n",
       "2     13.7     23.4       3.6             85       Yes          Yes   \n",
       "3     13.3     15.5      39.8             54       Yes          Yes   \n",
       "8      8.8     19.5       0.0             48        No          Yes   \n",
       "\n",
       "         Date  \n",
       "0  2020-01-01  \n",
       "1  2020-02-10  \n",
       "2  2020-03-15  \n",
       "3  2020-04-10  \n",
       "8  2020-10-29  "
      ]
     },
     "execution_count": 18,
     "metadata": {},
     "output_type": "execute_result"
    }
   ],
   "source": [
    "#3\n",
    "## Start the code here\n",
    "weather[weather[\"RainTomorrow\"].isin([\"Yes\"])]\n",
    "## End here"
   ]
  },
  {
   "cell_type": "code",
   "execution_count": 21,
   "metadata": {},
   "outputs": [
    {
     "name": "stdout",
     "output_type": "stream",
     "text": [
      "                        MinTemp  MaxTemp  Rainfall  WindGustSpeed        Date\n",
      "RainToday RainTomorrow                                                       \n",
      "No        Yes               8.0     24.3       0.0             30  2020-01-01\n",
      "Yes       Yes              14.0     26.9       3.6             39  2020-02-10\n",
      "          Yes              13.7     23.4       3.6             85  2020-03-15\n",
      "          Yes              13.3     15.5      39.8             54  2020-04-10\n",
      "          No                7.6     16.1       2.8             50  2020-05-15\n",
      "No        No                6.2     16.9       0.0             44  2020-06-10\n",
      "          No                6.1     18.2       0.2             43  2020-07-17\n",
      "          No                8.3     17.0       0.0             41  2020-08-28\n",
      "          Yes               8.8     19.5       0.0             48  2020-10-29\n",
      "Yes       No                8.4     22.8      16.2             31  2020-12-21\n"
     ]
    }
   ],
   "source": [
    "#4\n",
    "## Start the code here\n",
    "Multi_index = weather.set_index([\"RainToday\",\"RainTomorrow\"])\n",
    "print(Multi_index)\n",
    "## End here"
   ]
  },
  {
   "cell_type": "code",
   "execution_count": 86,
   "metadata": {},
   "outputs": [
    {
     "data": {
      "text/html": [
       "<div>\n",
       "<style scoped>\n",
       "    .dataframe tbody tr th:only-of-type {\n",
       "        vertical-align: middle;\n",
       "    }\n",
       "\n",
       "    .dataframe tbody tr th {\n",
       "        vertical-align: top;\n",
       "    }\n",
       "\n",
       "    .dataframe thead th {\n",
       "        text-align: right;\n",
       "    }\n",
       "</style>\n",
       "<table border=\"1\" class=\"dataframe\">\n",
       "  <thead>\n",
       "    <tr style=\"text-align: right;\">\n",
       "      <th></th>\n",
       "      <th></th>\n",
       "      <th>MinTemp</th>\n",
       "      <th>MaxTemp</th>\n",
       "      <th>Rainfall</th>\n",
       "      <th>WindGustSpeed</th>\n",
       "      <th>Date</th>\n",
       "    </tr>\n",
       "    <tr>\n",
       "      <th>RainToday</th>\n",
       "      <th>RainTomorrow</th>\n",
       "      <th></th>\n",
       "      <th></th>\n",
       "      <th></th>\n",
       "      <th></th>\n",
       "      <th></th>\n",
       "    </tr>\n",
       "  </thead>\n",
       "  <tbody>\n",
       "    <tr>\n",
       "      <th>No</th>\n",
       "      <th>Yes</th>\n",
       "      <td>NaN</td>\n",
       "      <td>NaN</td>\n",
       "      <td>NaN</td>\n",
       "      <td>NaN</td>\n",
       "      <td>NaN</td>\n",
       "    </tr>\n",
       "    <tr>\n",
       "      <th rowspan=\"4\" valign=\"top\">Yes</th>\n",
       "      <th>Yes</th>\n",
       "      <td>NaN</td>\n",
       "      <td>NaN</td>\n",
       "      <td>NaN</td>\n",
       "      <td>NaN</td>\n",
       "      <td>NaN</td>\n",
       "    </tr>\n",
       "    <tr>\n",
       "      <th>Yes</th>\n",
       "      <td>NaN</td>\n",
       "      <td>NaN</td>\n",
       "      <td>NaN</td>\n",
       "      <td>NaN</td>\n",
       "      <td>NaN</td>\n",
       "    </tr>\n",
       "    <tr>\n",
       "      <th>Yes</th>\n",
       "      <td>NaN</td>\n",
       "      <td>NaN</td>\n",
       "      <td>NaN</td>\n",
       "      <td>NaN</td>\n",
       "      <td>NaN</td>\n",
       "    </tr>\n",
       "    <tr>\n",
       "      <th>No</th>\n",
       "      <td>NaN</td>\n",
       "      <td>NaN</td>\n",
       "      <td>NaN</td>\n",
       "      <td>NaN</td>\n",
       "      <td>NaN</td>\n",
       "    </tr>\n",
       "    <tr>\n",
       "      <th rowspan=\"4\" valign=\"top\">No</th>\n",
       "      <th>No</th>\n",
       "      <td>NaN</td>\n",
       "      <td>NaN</td>\n",
       "      <td>NaN</td>\n",
       "      <td>NaN</td>\n",
       "      <td>NaN</td>\n",
       "    </tr>\n",
       "    <tr>\n",
       "      <th>No</th>\n",
       "      <td>NaN</td>\n",
       "      <td>NaN</td>\n",
       "      <td>NaN</td>\n",
       "      <td>NaN</td>\n",
       "      <td>NaN</td>\n",
       "    </tr>\n",
       "    <tr>\n",
       "      <th>No</th>\n",
       "      <td>NaN</td>\n",
       "      <td>NaN</td>\n",
       "      <td>NaN</td>\n",
       "      <td>NaN</td>\n",
       "      <td>NaN</td>\n",
       "    </tr>\n",
       "    <tr>\n",
       "      <th>Yes</th>\n",
       "      <td>NaN</td>\n",
       "      <td>NaN</td>\n",
       "      <td>NaN</td>\n",
       "      <td>NaN</td>\n",
       "      <td>NaN</td>\n",
       "    </tr>\n",
       "    <tr>\n",
       "      <th>Yes</th>\n",
       "      <th>No</th>\n",
       "      <td>NaN</td>\n",
       "      <td>NaN</td>\n",
       "      <td>NaN</td>\n",
       "      <td>NaN</td>\n",
       "      <td>NaN</td>\n",
       "    </tr>\n",
       "  </tbody>\n",
       "</table>\n",
       "</div>"
      ],
      "text/plain": [
       "                        MinTemp  MaxTemp  Rainfall  WindGustSpeed Date\n",
       "RainToday RainTomorrow                                                \n",
       "No        Yes               NaN      NaN       NaN            NaN  NaN\n",
       "Yes       Yes               NaN      NaN       NaN            NaN  NaN\n",
       "          Yes               NaN      NaN       NaN            NaN  NaN\n",
       "          Yes               NaN      NaN       NaN            NaN  NaN\n",
       "          No                NaN      NaN       NaN            NaN  NaN\n",
       "No        No                NaN      NaN       NaN            NaN  NaN\n",
       "          No                NaN      NaN       NaN            NaN  NaN\n",
       "          No                NaN      NaN       NaN            NaN  NaN\n",
       "          Yes               NaN      NaN       NaN            NaN  NaN\n",
       "Yes       No                NaN      NaN       NaN            NaN  NaN"
      ]
     },
     "execution_count": 86,
     "metadata": {},
     "output_type": "execute_result"
    }
   ],
   "source": [
    "#5\n",
    "## Start the code here\n",
    "Multi_index = weather.set_index([\"RainToday\",\"RainTomorrow\"])\n",
    "Multi_index[Multi_index.loc[[\"RainToday\",\"RainTomorrow\"]].isin([\"No\"])]\n",
    "## End here"
   ]
  },
  {
   "cell_type": "code",
   "execution_count": 85,
   "metadata": {},
   "outputs": [
    {
     "ename": "ValueError",
     "evalue": "Boolean array expected for the condition, not object",
     "output_type": "error",
     "traceback": [
      "\u001b[1;31m---------------------------------------------------------------------------\u001b[0m",
      "\u001b[1;31mValueError\u001b[0m                                Traceback (most recent call last)",
      "\u001b[1;32m<ipython-input-85-f94aae85a77c>\u001b[0m in \u001b[0;36m<module>\u001b[1;34m\u001b[0m\n\u001b[0;32m      2\u001b[0m \u001b[1;31m## Start the code here\u001b[0m\u001b[1;33m\u001b[0m\u001b[1;33m\u001b[0m\u001b[1;33m\u001b[0m\u001b[0m\n\u001b[0;32m      3\u001b[0m \u001b[0mMulti_index\u001b[0m \u001b[1;33m=\u001b[0m \u001b[0mweather\u001b[0m\u001b[1;33m.\u001b[0m\u001b[0mset_index\u001b[0m\u001b[1;33m(\u001b[0m\u001b[1;33m[\u001b[0m\u001b[1;34m\"RainToday\"\u001b[0m\u001b[1;33m,\u001b[0m\u001b[1;34m\"RainTomorrow\"\u001b[0m\u001b[1;33m]\u001b[0m\u001b[1;33m)\u001b[0m\u001b[1;33m\u001b[0m\u001b[1;33m\u001b[0m\u001b[0m\n\u001b[1;32m----> 4\u001b[1;33m \u001b[0mMulti_index\u001b[0m\u001b[1;33m[\u001b[0m\u001b[0mMulti_index\u001b[0m\u001b[1;33m.\u001b[0m\u001b[0mloc\u001b[0m\u001b[1;33m[\u001b[0m\u001b[1;33m[\u001b[0m\u001b[1;33m(\u001b[0m\u001b[1;34m\"No\"\u001b[0m\u001b[1;33m,\u001b[0m\u001b[1;34m\"Yes\"\u001b[0m\u001b[1;33m)\u001b[0m\u001b[1;33m,\u001b[0m\u001b[1;33m(\u001b[0m\u001b[1;34m\"Yes\"\u001b[0m\u001b[1;33m,\u001b[0m\u001b[1;34m\"No\"\u001b[0m\u001b[1;33m)\u001b[0m\u001b[1;33m]\u001b[0m\u001b[1;33m]\u001b[0m\u001b[1;33m]\u001b[0m\u001b[1;33m\u001b[0m\u001b[1;33m\u001b[0m\u001b[0m\n\u001b[0m\u001b[0;32m      5\u001b[0m \u001b[1;31m## End here\u001b[0m\u001b[1;33m\u001b[0m\u001b[1;33m\u001b[0m\u001b[1;33m\u001b[0m\u001b[0m\n",
      "\u001b[1;32m~\\anaconda3\\lib\\site-packages\\pandas\\core\\frame.py\u001b[0m in \u001b[0;36m__getitem__\u001b[1;34m(self, key)\u001b[0m\n\u001b[0;32m   2785\u001b[0m         \u001b[1;31m# Do we have a (boolean) DataFrame?\u001b[0m\u001b[1;33m\u001b[0m\u001b[1;33m\u001b[0m\u001b[1;33m\u001b[0m\u001b[0m\n\u001b[0;32m   2786\u001b[0m         \u001b[1;32mif\u001b[0m \u001b[0misinstance\u001b[0m\u001b[1;33m(\u001b[0m\u001b[0mkey\u001b[0m\u001b[1;33m,\u001b[0m \u001b[0mDataFrame\u001b[0m\u001b[1;33m)\u001b[0m\u001b[1;33m:\u001b[0m\u001b[1;33m\u001b[0m\u001b[1;33m\u001b[0m\u001b[0m\n\u001b[1;32m-> 2787\u001b[1;33m             \u001b[1;32mreturn\u001b[0m \u001b[0mself\u001b[0m\u001b[1;33m.\u001b[0m\u001b[0mwhere\u001b[0m\u001b[1;33m(\u001b[0m\u001b[0mkey\u001b[0m\u001b[1;33m)\u001b[0m\u001b[1;33m\u001b[0m\u001b[1;33m\u001b[0m\u001b[0m\n\u001b[0m\u001b[0;32m   2788\u001b[0m \u001b[1;33m\u001b[0m\u001b[0m\n\u001b[0;32m   2789\u001b[0m         \u001b[1;31m# Do we have a (boolean) 1d indexer?\u001b[0m\u001b[1;33m\u001b[0m\u001b[1;33m\u001b[0m\u001b[1;33m\u001b[0m\u001b[0m\n",
      "\u001b[1;32m~\\anaconda3\\lib\\site-packages\\pandas\\core\\generic.py\u001b[0m in \u001b[0;36mwhere\u001b[1;34m(self, cond, other, inplace, axis, level, errors, try_cast)\u001b[0m\n\u001b[0;32m   8919\u001b[0m         \u001b[0mother\u001b[0m \u001b[1;33m=\u001b[0m \u001b[0mcom\u001b[0m\u001b[1;33m.\u001b[0m\u001b[0mapply_if_callable\u001b[0m\u001b[1;33m(\u001b[0m\u001b[0mother\u001b[0m\u001b[1;33m,\u001b[0m \u001b[0mself\u001b[0m\u001b[1;33m)\u001b[0m\u001b[1;33m\u001b[0m\u001b[1;33m\u001b[0m\u001b[0m\n\u001b[0;32m   8920\u001b[0m         return self._where(\n\u001b[1;32m-> 8921\u001b[1;33m             \u001b[0mcond\u001b[0m\u001b[1;33m,\u001b[0m \u001b[0mother\u001b[0m\u001b[1;33m,\u001b[0m \u001b[0minplace\u001b[0m\u001b[1;33m,\u001b[0m \u001b[0maxis\u001b[0m\u001b[1;33m,\u001b[0m \u001b[0mlevel\u001b[0m\u001b[1;33m,\u001b[0m \u001b[0merrors\u001b[0m\u001b[1;33m=\u001b[0m\u001b[0merrors\u001b[0m\u001b[1;33m,\u001b[0m \u001b[0mtry_cast\u001b[0m\u001b[1;33m=\u001b[0m\u001b[0mtry_cast\u001b[0m\u001b[1;33m\u001b[0m\u001b[1;33m\u001b[0m\u001b[0m\n\u001b[0m\u001b[0;32m   8922\u001b[0m         )\n\u001b[0;32m   8923\u001b[0m \u001b[1;33m\u001b[0m\u001b[0m\n",
      "\u001b[1;32m~\\anaconda3\\lib\\site-packages\\pandas\\core\\generic.py\u001b[0m in \u001b[0;36m_where\u001b[1;34m(self, cond, other, inplace, axis, level, errors, try_cast)\u001b[0m\n\u001b[0;32m   8677\u001b[0m             \u001b[1;32mfor\u001b[0m \u001b[0mdt\u001b[0m \u001b[1;32min\u001b[0m \u001b[0mcond\u001b[0m\u001b[1;33m.\u001b[0m\u001b[0mdtypes\u001b[0m\u001b[1;33m:\u001b[0m\u001b[1;33m\u001b[0m\u001b[1;33m\u001b[0m\u001b[0m\n\u001b[0;32m   8678\u001b[0m                 \u001b[1;32mif\u001b[0m \u001b[1;32mnot\u001b[0m \u001b[0mis_bool_dtype\u001b[0m\u001b[1;33m(\u001b[0m\u001b[0mdt\u001b[0m\u001b[1;33m)\u001b[0m\u001b[1;33m:\u001b[0m\u001b[1;33m\u001b[0m\u001b[1;33m\u001b[0m\u001b[0m\n\u001b[1;32m-> 8679\u001b[1;33m                     \u001b[1;32mraise\u001b[0m \u001b[0mValueError\u001b[0m\u001b[1;33m(\u001b[0m\u001b[0mmsg\u001b[0m\u001b[1;33m.\u001b[0m\u001b[0mformat\u001b[0m\u001b[1;33m(\u001b[0m\u001b[0mdtype\u001b[0m\u001b[1;33m=\u001b[0m\u001b[0mdt\u001b[0m\u001b[1;33m)\u001b[0m\u001b[1;33m)\u001b[0m\u001b[1;33m\u001b[0m\u001b[1;33m\u001b[0m\u001b[0m\n\u001b[0m\u001b[0;32m   8680\u001b[0m \u001b[1;33m\u001b[0m\u001b[0m\n\u001b[0;32m   8681\u001b[0m         \u001b[0mcond\u001b[0m \u001b[1;33m=\u001b[0m \u001b[1;33m-\u001b[0m\u001b[0mcond\u001b[0m \u001b[1;32mif\u001b[0m \u001b[0minplace\u001b[0m \u001b[1;32melse\u001b[0m \u001b[0mcond\u001b[0m\u001b[1;33m\u001b[0m\u001b[1;33m\u001b[0m\u001b[0m\n",
      "\u001b[1;31mValueError\u001b[0m: Boolean array expected for the condition, not object"
     ]
    }
   ],
   "source": [
    "#6\n",
    "## Start the code here\n",
    "Multi_index = weather.set_index([\"RainToday\",\"RainTomorrow\"])\n",
    "Multi_index[Multi_index.loc[[(\"No\",\"Yes\"),(\"Yes\",\"No\")]]]\n",
    "## End here"
   ]
  },
  {
   "cell_type": "code",
   "execution_count": 13,
   "metadata": {},
   "outputs": [
    {
     "data": {
      "text/html": [
       "<div>\n",
       "<style scoped>\n",
       "    .dataframe tbody tr th:only-of-type {\n",
       "        vertical-align: middle;\n",
       "    }\n",
       "\n",
       "    .dataframe tbody tr th {\n",
       "        vertical-align: top;\n",
       "    }\n",
       "\n",
       "    .dataframe thead th {\n",
       "        text-align: right;\n",
       "    }\n",
       "</style>\n",
       "<table border=\"1\" class=\"dataframe\">\n",
       "  <thead>\n",
       "    <tr style=\"text-align: right;\">\n",
       "      <th></th>\n",
       "      <th>MaxTemp</th>\n",
       "      <th>Rainfall</th>\n",
       "      <th>WindGustSpeed</th>\n",
       "      <th>RainToday</th>\n",
       "      <th>RainTomorrow</th>\n",
       "      <th>Date</th>\n",
       "    </tr>\n",
       "    <tr>\n",
       "      <th>MinTemp</th>\n",
       "      <th></th>\n",
       "      <th></th>\n",
       "      <th></th>\n",
       "      <th></th>\n",
       "      <th></th>\n",
       "      <th></th>\n",
       "    </tr>\n",
       "  </thead>\n",
       "  <tbody>\n",
       "    <tr>\n",
       "      <th>6.1</th>\n",
       "      <td>18.2</td>\n",
       "      <td>0.2</td>\n",
       "      <td>43</td>\n",
       "      <td>No</td>\n",
       "      <td>No</td>\n",
       "      <td>2020-07-17</td>\n",
       "    </tr>\n",
       "    <tr>\n",
       "      <th>6.2</th>\n",
       "      <td>16.9</td>\n",
       "      <td>0.0</td>\n",
       "      <td>44</td>\n",
       "      <td>No</td>\n",
       "      <td>No</td>\n",
       "      <td>2020-06-10</td>\n",
       "    </tr>\n",
       "    <tr>\n",
       "      <th>7.6</th>\n",
       "      <td>16.1</td>\n",
       "      <td>2.8</td>\n",
       "      <td>50</td>\n",
       "      <td>Yes</td>\n",
       "      <td>No</td>\n",
       "      <td>2020-05-15</td>\n",
       "    </tr>\n",
       "    <tr>\n",
       "      <th>8.0</th>\n",
       "      <td>24.3</td>\n",
       "      <td>0.0</td>\n",
       "      <td>30</td>\n",
       "      <td>No</td>\n",
       "      <td>Yes</td>\n",
       "      <td>2020-01-01</td>\n",
       "    </tr>\n",
       "    <tr>\n",
       "      <th>8.3</th>\n",
       "      <td>17.0</td>\n",
       "      <td>0.0</td>\n",
       "      <td>41</td>\n",
       "      <td>No</td>\n",
       "      <td>No</td>\n",
       "      <td>2020-08-28</td>\n",
       "    </tr>\n",
       "    <tr>\n",
       "      <th>8.4</th>\n",
       "      <td>22.8</td>\n",
       "      <td>16.2</td>\n",
       "      <td>31</td>\n",
       "      <td>Yes</td>\n",
       "      <td>No</td>\n",
       "      <td>2020-12-21</td>\n",
       "    </tr>\n",
       "    <tr>\n",
       "      <th>8.8</th>\n",
       "      <td>19.5</td>\n",
       "      <td>0.0</td>\n",
       "      <td>48</td>\n",
       "      <td>No</td>\n",
       "      <td>Yes</td>\n",
       "      <td>2020-10-29</td>\n",
       "    </tr>\n",
       "    <tr>\n",
       "      <th>13.3</th>\n",
       "      <td>15.5</td>\n",
       "      <td>39.8</td>\n",
       "      <td>54</td>\n",
       "      <td>Yes</td>\n",
       "      <td>Yes</td>\n",
       "      <td>2020-04-10</td>\n",
       "    </tr>\n",
       "    <tr>\n",
       "      <th>13.7</th>\n",
       "      <td>23.4</td>\n",
       "      <td>3.6</td>\n",
       "      <td>85</td>\n",
       "      <td>Yes</td>\n",
       "      <td>Yes</td>\n",
       "      <td>2020-03-15</td>\n",
       "    </tr>\n",
       "    <tr>\n",
       "      <th>14.0</th>\n",
       "      <td>26.9</td>\n",
       "      <td>3.6</td>\n",
       "      <td>39</td>\n",
       "      <td>Yes</td>\n",
       "      <td>Yes</td>\n",
       "      <td>2020-02-10</td>\n",
       "    </tr>\n",
       "  </tbody>\n",
       "</table>\n",
       "</div>"
      ],
      "text/plain": [
       "         MaxTemp  Rainfall  WindGustSpeed RainToday RainTomorrow        Date\n",
       "MinTemp                                                                     \n",
       "6.1         18.2       0.2             43        No           No  2020-07-17\n",
       "6.2         16.9       0.0             44        No           No  2020-06-10\n",
       "7.6         16.1       2.8             50       Yes           No  2020-05-15\n",
       "8.0         24.3       0.0             30        No          Yes  2020-01-01\n",
       "8.3         17.0       0.0             41        No           No  2020-08-28\n",
       "8.4         22.8      16.2             31       Yes           No  2020-12-21\n",
       "8.8         19.5       0.0             48        No          Yes  2020-10-29\n",
       "13.3        15.5      39.8             54       Yes          Yes  2020-04-10\n",
       "13.7        23.4       3.6             85       Yes          Yes  2020-03-15\n",
       "14.0        26.9       3.6             39       Yes          Yes  2020-02-10"
      ]
     },
     "execution_count": 13,
     "metadata": {},
     "output_type": "execute_result"
    }
   ],
   "source": [
    "#7\n",
    "## Start the code here\n",
    "weather.sort_index()\n",
    "## End here"
   ]
  },
  {
   "cell_type": "markdown",
   "metadata": {},
   "source": [
    "## Slicing & Subsetting with .loc & .iloc "
   ]
  },
  {
   "cell_type": "markdown",
   "metadata": {},
   "source": [
    "Solve the following questions: (7 marks)\n",
    "\n",
    "Q1. Set the weather **index** as \"MinTemp\" and \"MaxTemp\" then **sort** it.\n",
    "\n",
    "**Slice outer index level**\n",
    "\n",
    "Q2. Slice the MinTemp from **(6.1 to 8.0)** \n",
    "\n",
    "**Slice the inner index level**\n",
    "\n",
    "Q3. Slice the **first four** index i.e, (6.1,18.2):(8.0,24.3)\n",
    "\n",
    "**Slicing columns**\n",
    "\n",
    "Q4. Slice weather by columns **(Rainfall and WindGustSpeed)**\n",
    "\n",
    "Q5. Slice weather twice from **(6.1, 18.3 to 8.0,24.3)** keeping columns **RainToday** and **RainTomorrow**\n",
    "\n",
    "**Slicing by dates** \n",
    "\n",
    "Q6. Set \"Date\" as index , **sort()** it and Slice **date** between **2020-01-01** and **2020-04-10** \n",
    "\n",
    "**Subsetting by rows and columns**\n",
    "\n",
    "Q7. Subset weather by **row (2 to 5)** and **columns (1 to 4)**"
   ]
  },
  {
   "cell_type": "code",
   "execution_count": 28,
   "metadata": {},
   "outputs": [
    {
     "name": "stdout",
     "output_type": "stream",
     "text": [
      "                 Rainfall  WindGustSpeed RainToday RainTomorrow        Date\n",
      "MinTemp MaxTemp                                                            \n",
      "6.1     18.2          0.2             43        No           No  17/07/2020\n",
      "6.2     16.9          0.0             44        No           No  10/06/2020\n",
      "7.6     16.1          2.8             50       Yes           No  15/05/2020\n",
      "8.0     24.3          0.0             30        No          Yes  01/01/2020\n",
      "8.3     17.0          0.0             41        No           No  28/08/2020\n",
      "8.4     22.8         16.2             31       Yes           No  21/12/2020\n",
      "8.8     19.5          0.0             48        No          Yes  29/10/2020\n",
      "13.3    15.5         39.8             54       Yes          Yes  10/04/2020\n",
      "13.7    23.4          3.6             85       Yes          Yes  15/03/2020\n",
      "14.0    26.9          3.6             39       Yes          Yes  10/02/2020\n"
     ]
    }
   ],
   "source": [
    "#1\n",
    "## Start the code here\n",
    "mult=weather.set_index([\"MinTemp\",\"MaxTemp\"])\n",
    "weather1=mult.sort_index()\n",
    "print(weather1)\n",
    "## End here"
   ]
  },
  {
   "cell_type": "code",
   "execution_count": 58,
   "metadata": {},
   "outputs": [
    {
     "data": {
      "text/plain": [
       "6    6.1\n",
       "5    6.2\n",
       "4    7.6\n",
       "0    8.0\n",
       "Name: MinTemp, dtype: float64"
      ]
     },
     "execution_count": 58,
     "metadata": {},
     "output_type": "execute_result"
    }
   ],
   "source": [
    "#2\n",
    "## Start the code here\n",
    "sort=weather.sort_values(\"MinTemp\")\n",
    "subset=sort[\"MinTemp\"]\n",
    "subset.iloc[0:4]\n",
    "## End here"
   ]
  },
  {
   "cell_type": "code",
   "execution_count": 59,
   "metadata": {},
   "outputs": [
    {
     "data": {
      "text/html": [
       "<div>\n",
       "<style scoped>\n",
       "    .dataframe tbody tr th:only-of-type {\n",
       "        vertical-align: middle;\n",
       "    }\n",
       "\n",
       "    .dataframe tbody tr th {\n",
       "        vertical-align: top;\n",
       "    }\n",
       "\n",
       "    .dataframe thead th {\n",
       "        text-align: right;\n",
       "    }\n",
       "</style>\n",
       "<table border=\"1\" class=\"dataframe\">\n",
       "  <thead>\n",
       "    <tr style=\"text-align: right;\">\n",
       "      <th></th>\n",
       "      <th>MaxTemp</th>\n",
       "    </tr>\n",
       "    <tr>\n",
       "      <th>MinTemp</th>\n",
       "      <th></th>\n",
       "    </tr>\n",
       "  </thead>\n",
       "  <tbody>\n",
       "    <tr>\n",
       "      <th>6.1</th>\n",
       "      <td>18.2</td>\n",
       "    </tr>\n",
       "    <tr>\n",
       "      <th>6.2</th>\n",
       "      <td>16.9</td>\n",
       "    </tr>\n",
       "    <tr>\n",
       "      <th>7.6</th>\n",
       "      <td>16.1</td>\n",
       "    </tr>\n",
       "    <tr>\n",
       "      <th>8.0</th>\n",
       "      <td>24.3</td>\n",
       "    </tr>\n",
       "  </tbody>\n",
       "</table>\n",
       "</div>"
      ],
      "text/plain": [
       "         MaxTemp\n",
       "MinTemp         \n",
       "6.1         18.2\n",
       "6.2         16.9\n",
       "7.6         16.1\n",
       "8.0         24.3"
      ]
     },
     "execution_count": 59,
     "metadata": {},
     "output_type": "execute_result"
    }
   ],
   "source": [
    "#3\n",
    "## Start the code here\n",
    "weather=pd.read_csv(\"weather.csv\",index_col=0)\n",
    "sort=weather.sort_values(\"MinTemp\")\n",
    "sort.iloc[0:4,0:1]\n",
    "## End here"
   ]
  },
  {
   "cell_type": "code",
   "execution_count": 60,
   "metadata": {},
   "outputs": [
    {
     "data": {
      "text/html": [
       "<div>\n",
       "<style scoped>\n",
       "    .dataframe tbody tr th:only-of-type {\n",
       "        vertical-align: middle;\n",
       "    }\n",
       "\n",
       "    .dataframe tbody tr th {\n",
       "        vertical-align: top;\n",
       "    }\n",
       "\n",
       "    .dataframe thead th {\n",
       "        text-align: right;\n",
       "    }\n",
       "</style>\n",
       "<table border=\"1\" class=\"dataframe\">\n",
       "  <thead>\n",
       "    <tr style=\"text-align: right;\">\n",
       "      <th></th>\n",
       "      <th>Rainfall</th>\n",
       "      <th>WindGustSpeed</th>\n",
       "    </tr>\n",
       "    <tr>\n",
       "      <th>MinTemp</th>\n",
       "      <th></th>\n",
       "      <th></th>\n",
       "    </tr>\n",
       "  </thead>\n",
       "  <tbody>\n",
       "    <tr>\n",
       "      <th>8.0</th>\n",
       "      <td>0.0</td>\n",
       "      <td>30</td>\n",
       "    </tr>\n",
       "    <tr>\n",
       "      <th>14.0</th>\n",
       "      <td>3.6</td>\n",
       "      <td>39</td>\n",
       "    </tr>\n",
       "    <tr>\n",
       "      <th>13.7</th>\n",
       "      <td>3.6</td>\n",
       "      <td>85</td>\n",
       "    </tr>\n",
       "    <tr>\n",
       "      <th>13.3</th>\n",
       "      <td>39.8</td>\n",
       "      <td>54</td>\n",
       "    </tr>\n",
       "    <tr>\n",
       "      <th>7.6</th>\n",
       "      <td>2.8</td>\n",
       "      <td>50</td>\n",
       "    </tr>\n",
       "    <tr>\n",
       "      <th>6.2</th>\n",
       "      <td>0.0</td>\n",
       "      <td>44</td>\n",
       "    </tr>\n",
       "    <tr>\n",
       "      <th>6.1</th>\n",
       "      <td>0.2</td>\n",
       "      <td>43</td>\n",
       "    </tr>\n",
       "    <tr>\n",
       "      <th>8.3</th>\n",
       "      <td>0.0</td>\n",
       "      <td>41</td>\n",
       "    </tr>\n",
       "    <tr>\n",
       "      <th>8.8</th>\n",
       "      <td>0.0</td>\n",
       "      <td>48</td>\n",
       "    </tr>\n",
       "    <tr>\n",
       "      <th>8.4</th>\n",
       "      <td>16.2</td>\n",
       "      <td>31</td>\n",
       "    </tr>\n",
       "  </tbody>\n",
       "</table>\n",
       "</div>"
      ],
      "text/plain": [
       "         Rainfall  WindGustSpeed\n",
       "MinTemp                         \n",
       "8.0           0.0             30\n",
       "14.0          3.6             39\n",
       "13.7          3.6             85\n",
       "13.3         39.8             54\n",
       "7.6           2.8             50\n",
       "6.2           0.0             44\n",
       "6.1           0.2             43\n",
       "8.3           0.0             41\n",
       "8.8           0.0             48\n",
       "8.4          16.2             31"
      ]
     },
     "execution_count": 60,
     "metadata": {},
     "output_type": "execute_result"
    }
   ],
   "source": [
    "#4\n",
    "## Start the code here\n",
    "weather[[\"Rainfall\",\"WindGustSpeed\"]]\n",
    "## End here"
   ]
  },
  {
   "cell_type": "code",
   "execution_count": 71,
   "metadata": {},
   "outputs": [
    {
     "data": {
      "text/html": [
       "<div>\n",
       "<style scoped>\n",
       "    .dataframe tbody tr th:only-of-type {\n",
       "        vertical-align: middle;\n",
       "    }\n",
       "\n",
       "    .dataframe tbody tr th {\n",
       "        vertical-align: top;\n",
       "    }\n",
       "\n",
       "    .dataframe thead th {\n",
       "        text-align: right;\n",
       "    }\n",
       "</style>\n",
       "<table border=\"1\" class=\"dataframe\">\n",
       "  <thead>\n",
       "    <tr style=\"text-align: right;\">\n",
       "      <th></th>\n",
       "      <th>MaxTemp</th>\n",
       "      <th>Rainfall</th>\n",
       "      <th>WindGustSpeed</th>\n",
       "      <th>RainToday</th>\n",
       "      <th>RainTomorrow</th>\n",
       "    </tr>\n",
       "    <tr>\n",
       "      <th>MinTemp</th>\n",
       "      <th></th>\n",
       "      <th></th>\n",
       "      <th></th>\n",
       "      <th></th>\n",
       "      <th></th>\n",
       "    </tr>\n",
       "  </thead>\n",
       "  <tbody>\n",
       "    <tr>\n",
       "      <th>6.1</th>\n",
       "      <td>18.2</td>\n",
       "      <td>0.2</td>\n",
       "      <td>43</td>\n",
       "      <td>No</td>\n",
       "      <td>No</td>\n",
       "    </tr>\n",
       "    <tr>\n",
       "      <th>6.2</th>\n",
       "      <td>16.9</td>\n",
       "      <td>0.0</td>\n",
       "      <td>44</td>\n",
       "      <td>No</td>\n",
       "      <td>No</td>\n",
       "    </tr>\n",
       "    <tr>\n",
       "      <th>7.6</th>\n",
       "      <td>16.1</td>\n",
       "      <td>2.8</td>\n",
       "      <td>50</td>\n",
       "      <td>Yes</td>\n",
       "      <td>No</td>\n",
       "    </tr>\n",
       "    <tr>\n",
       "      <th>8.0</th>\n",
       "      <td>24.3</td>\n",
       "      <td>0.0</td>\n",
       "      <td>30</td>\n",
       "      <td>No</td>\n",
       "      <td>Yes</td>\n",
       "    </tr>\n",
       "  </tbody>\n",
       "</table>\n",
       "</div>"
      ],
      "text/plain": [
       "         MaxTemp  Rainfall  WindGustSpeed RainToday RainTomorrow\n",
       "MinTemp                                                         \n",
       "6.1         18.2       0.2             43        No           No\n",
       "6.2         16.9       0.0             44        No           No\n",
       "7.6         16.1       2.8             50       Yes           No\n",
       "8.0         24.3       0.0             30        No          Yes"
      ]
     },
     "execution_count": 71,
     "metadata": {},
     "output_type": "execute_result"
    }
   ],
   "source": [
    "#5\n",
    "## Start the code here\n",
    "weather=pd.read_csv(\"weather.csv\",index_col=0)\n",
    "sort=weather.sort_values(\"MinTemp\")\n",
    "sort.iloc[0:4,0:5]\n",
    "\n",
    "## End here"
   ]
  },
  {
   "cell_type": "code",
   "execution_count": 26,
   "metadata": {},
   "outputs": [
    {
     "data": {
      "text/html": [
       "<div>\n",
       "<style scoped>\n",
       "    .dataframe tbody tr th:only-of-type {\n",
       "        vertical-align: middle;\n",
       "    }\n",
       "\n",
       "    .dataframe tbody tr th {\n",
       "        vertical-align: top;\n",
       "    }\n",
       "\n",
       "    .dataframe thead th {\n",
       "        text-align: right;\n",
       "    }\n",
       "</style>\n",
       "<table border=\"1\" class=\"dataframe\">\n",
       "  <thead>\n",
       "    <tr style=\"text-align: right;\">\n",
       "      <th></th>\n",
       "      <th>MinTemp</th>\n",
       "      <th>MaxTemp</th>\n",
       "      <th>Rainfall</th>\n",
       "      <th>WindGustSpeed</th>\n",
       "      <th>RainToday</th>\n",
       "      <th>RainTomorrow</th>\n",
       "    </tr>\n",
       "    <tr>\n",
       "      <th>Date</th>\n",
       "      <th></th>\n",
       "      <th></th>\n",
       "      <th></th>\n",
       "      <th></th>\n",
       "      <th></th>\n",
       "      <th></th>\n",
       "    </tr>\n",
       "  </thead>\n",
       "  <tbody>\n",
       "    <tr>\n",
       "      <th>01/01/2020</th>\n",
       "      <td>8.0</td>\n",
       "      <td>24.3</td>\n",
       "      <td>0.0</td>\n",
       "      <td>30</td>\n",
       "      <td>No</td>\n",
       "      <td>Yes</td>\n",
       "    </tr>\n",
       "    <tr>\n",
       "      <th>10/02/2020</th>\n",
       "      <td>14.0</td>\n",
       "      <td>26.9</td>\n",
       "      <td>3.6</td>\n",
       "      <td>39</td>\n",
       "      <td>Yes</td>\n",
       "      <td>Yes</td>\n",
       "    </tr>\n",
       "    <tr>\n",
       "      <th>15/03/2020</th>\n",
       "      <td>13.7</td>\n",
       "      <td>23.4</td>\n",
       "      <td>3.6</td>\n",
       "      <td>85</td>\n",
       "      <td>Yes</td>\n",
       "      <td>Yes</td>\n",
       "    </tr>\n",
       "    <tr>\n",
       "      <th>10/04/2020</th>\n",
       "      <td>13.3</td>\n",
       "      <td>15.5</td>\n",
       "      <td>39.8</td>\n",
       "      <td>54</td>\n",
       "      <td>Yes</td>\n",
       "      <td>Yes</td>\n",
       "    </tr>\n",
       "  </tbody>\n",
       "</table>\n",
       "</div>"
      ],
      "text/plain": [
       "            MinTemp  MaxTemp  Rainfall  WindGustSpeed RainToday RainTomorrow\n",
       "Date                                                                        \n",
       "01/01/2020      8.0     24.3       0.0             30        No          Yes\n",
       "10/02/2020     14.0     26.9       3.6             39       Yes          Yes\n",
       "15/03/2020     13.7     23.4       3.6             85       Yes          Yes\n",
       "10/04/2020     13.3     15.5      39.8             54       Yes          Yes"
      ]
     },
     "execution_count": 26,
     "metadata": {},
     "output_type": "execute_result"
    }
   ],
   "source": [
    "#6\n",
    "## Start the code here\n",
    "date=weather.set_index(\"Date\")\n",
    "date.sort_index()\n",
    "date.loc[\"01/01/2020\":\"10/04/2020\"]\n",
    "## End here"
   ]
  },
  {
   "cell_type": "code",
   "execution_count": 27,
   "metadata": {},
   "outputs": [
    {
     "data": {
      "text/html": [
       "<div>\n",
       "<style scoped>\n",
       "    .dataframe tbody tr th:only-of-type {\n",
       "        vertical-align: middle;\n",
       "    }\n",
       "\n",
       "    .dataframe tbody tr th {\n",
       "        vertical-align: top;\n",
       "    }\n",
       "\n",
       "    .dataframe thead th {\n",
       "        text-align: right;\n",
       "    }\n",
       "</style>\n",
       "<table border=\"1\" class=\"dataframe\">\n",
       "  <thead>\n",
       "    <tr style=\"text-align: right;\">\n",
       "      <th></th>\n",
       "      <th>MaxTemp</th>\n",
       "      <th>Rainfall</th>\n",
       "      <th>WindGustSpeed</th>\n",
       "    </tr>\n",
       "  </thead>\n",
       "  <tbody>\n",
       "    <tr>\n",
       "      <th>2</th>\n",
       "      <td>23.4</td>\n",
       "      <td>3.6</td>\n",
       "      <td>85</td>\n",
       "    </tr>\n",
       "    <tr>\n",
       "      <th>3</th>\n",
       "      <td>15.5</td>\n",
       "      <td>39.8</td>\n",
       "      <td>54</td>\n",
       "    </tr>\n",
       "    <tr>\n",
       "      <th>4</th>\n",
       "      <td>16.1</td>\n",
       "      <td>2.8</td>\n",
       "      <td>50</td>\n",
       "    </tr>\n",
       "  </tbody>\n",
       "</table>\n",
       "</div>"
      ],
      "text/plain": [
       "   MaxTemp  Rainfall  WindGustSpeed\n",
       "2     23.4       3.6             85\n",
       "3     15.5      39.8             54\n",
       "4     16.1       2.8             50"
      ]
     },
     "execution_count": 27,
     "metadata": {},
     "output_type": "execute_result"
    }
   ],
   "source": [
    "#7\n",
    "## Start the code here\n",
    "weather.iloc[2:5,1:4]\n",
    "## End here"
   ]
  },
  {
   "cell_type": "markdown",
   "metadata": {},
   "source": [
    "Solve the following questions: (3 marks)\n",
    "\n",
    "## Working with pivot tables\n",
    "\n",
    "Q1. **Pivot** the weather by keeping value as \"Rainfall\", **index** as \"MinTemp\" and **columns** as \"MaxTemp\".\n",
    "\n",
    "Q2. Slice **first five index** \n",
    "\n",
    "Q3. Calculate summary stats across index and columns separately, i.e (mean)"
   ]
  },
  {
   "cell_type": "code",
   "execution_count": 18,
   "metadata": {},
   "outputs": [
    {
     "name": "stdout",
     "output_type": "stream",
     "text": [
      "MaxTemp  15.5  16.1  16.9  17.0  18.2  19.5  22.8  23.4  24.3  26.9\n",
      "MinTemp                                                            \n",
      "6.1       NaN   NaN   NaN   NaN   0.2   NaN   NaN   NaN   NaN   NaN\n",
      "6.2       NaN   NaN   0.0   NaN   NaN   NaN   NaN   NaN   NaN   NaN\n",
      "7.6       NaN   2.8   NaN   NaN   NaN   NaN   NaN   NaN   NaN   NaN\n",
      "8.0       NaN   NaN   NaN   NaN   NaN   NaN   NaN   NaN   0.0   NaN\n",
      "8.3       NaN   NaN   NaN   0.0   NaN   NaN   NaN   NaN   NaN   NaN\n",
      "8.4       NaN   NaN   NaN   NaN   NaN   NaN  16.2   NaN   NaN   NaN\n",
      "8.8       NaN   NaN   NaN   NaN   NaN   0.0   NaN   NaN   NaN   NaN\n",
      "13.3     39.8   NaN   NaN   NaN   NaN   NaN   NaN   NaN   NaN   NaN\n",
      "13.7      NaN   NaN   NaN   NaN   NaN   NaN   NaN   3.6   NaN   NaN\n",
      "14.0      NaN   NaN   NaN   NaN   NaN   NaN   NaN   NaN   NaN   3.6\n"
     ]
    }
   ],
   "source": [
    "#1\n",
    "## Start the code here\n",
    "pivot=weather.pivot_table(\"Rainfall\",index=\"MinTemp\",columns=\"MaxTemp\")\n",
    "print(pivot)\n",
    "## End here"
   ]
  },
  {
   "cell_type": "code",
   "execution_count": 22,
   "metadata": {},
   "outputs": [
    {
     "data": {
      "text/html": [
       "<div>\n",
       "<style scoped>\n",
       "    .dataframe tbody tr th:only-of-type {\n",
       "        vertical-align: middle;\n",
       "    }\n",
       "\n",
       "    .dataframe tbody tr th {\n",
       "        vertical-align: top;\n",
       "    }\n",
       "\n",
       "    .dataframe thead th {\n",
       "        text-align: right;\n",
       "    }\n",
       "</style>\n",
       "<table border=\"1\" class=\"dataframe\">\n",
       "  <thead>\n",
       "    <tr style=\"text-align: right;\">\n",
       "      <th>MaxTemp</th>\n",
       "      <th>15.5</th>\n",
       "      <th>16.1</th>\n",
       "      <th>16.9</th>\n",
       "      <th>17.0</th>\n",
       "      <th>18.2</th>\n",
       "      <th>19.5</th>\n",
       "      <th>22.8</th>\n",
       "      <th>23.4</th>\n",
       "      <th>24.3</th>\n",
       "      <th>26.9</th>\n",
       "    </tr>\n",
       "    <tr>\n",
       "      <th>MinTemp</th>\n",
       "      <th></th>\n",
       "      <th></th>\n",
       "      <th></th>\n",
       "      <th></th>\n",
       "      <th></th>\n",
       "      <th></th>\n",
       "      <th></th>\n",
       "      <th></th>\n",
       "      <th></th>\n",
       "      <th></th>\n",
       "    </tr>\n",
       "  </thead>\n",
       "  <tbody>\n",
       "    <tr>\n",
       "      <th>6.1</th>\n",
       "      <td>NaN</td>\n",
       "      <td>NaN</td>\n",
       "      <td>NaN</td>\n",
       "      <td>NaN</td>\n",
       "      <td>0.2</td>\n",
       "      <td>NaN</td>\n",
       "      <td>NaN</td>\n",
       "      <td>NaN</td>\n",
       "      <td>NaN</td>\n",
       "      <td>NaN</td>\n",
       "    </tr>\n",
       "    <tr>\n",
       "      <th>6.2</th>\n",
       "      <td>NaN</td>\n",
       "      <td>NaN</td>\n",
       "      <td>0.0</td>\n",
       "      <td>NaN</td>\n",
       "      <td>NaN</td>\n",
       "      <td>NaN</td>\n",
       "      <td>NaN</td>\n",
       "      <td>NaN</td>\n",
       "      <td>NaN</td>\n",
       "      <td>NaN</td>\n",
       "    </tr>\n",
       "    <tr>\n",
       "      <th>7.6</th>\n",
       "      <td>NaN</td>\n",
       "      <td>2.8</td>\n",
       "      <td>NaN</td>\n",
       "      <td>NaN</td>\n",
       "      <td>NaN</td>\n",
       "      <td>NaN</td>\n",
       "      <td>NaN</td>\n",
       "      <td>NaN</td>\n",
       "      <td>NaN</td>\n",
       "      <td>NaN</td>\n",
       "    </tr>\n",
       "    <tr>\n",
       "      <th>8.0</th>\n",
       "      <td>NaN</td>\n",
       "      <td>NaN</td>\n",
       "      <td>NaN</td>\n",
       "      <td>NaN</td>\n",
       "      <td>NaN</td>\n",
       "      <td>NaN</td>\n",
       "      <td>NaN</td>\n",
       "      <td>NaN</td>\n",
       "      <td>0.0</td>\n",
       "      <td>NaN</td>\n",
       "    </tr>\n",
       "    <tr>\n",
       "      <th>8.3</th>\n",
       "      <td>NaN</td>\n",
       "      <td>NaN</td>\n",
       "      <td>NaN</td>\n",
       "      <td>0.0</td>\n",
       "      <td>NaN</td>\n",
       "      <td>NaN</td>\n",
       "      <td>NaN</td>\n",
       "      <td>NaN</td>\n",
       "      <td>NaN</td>\n",
       "      <td>NaN</td>\n",
       "    </tr>\n",
       "    <tr>\n",
       "      <th>8.4</th>\n",
       "      <td>NaN</td>\n",
       "      <td>NaN</td>\n",
       "      <td>NaN</td>\n",
       "      <td>NaN</td>\n",
       "      <td>NaN</td>\n",
       "      <td>NaN</td>\n",
       "      <td>16.2</td>\n",
       "      <td>NaN</td>\n",
       "      <td>NaN</td>\n",
       "      <td>NaN</td>\n",
       "    </tr>\n",
       "  </tbody>\n",
       "</table>\n",
       "</div>"
      ],
      "text/plain": [
       "MaxTemp  15.5  16.1  16.9  17.0  18.2  19.5  22.8  23.4  24.3  26.9\n",
       "MinTemp                                                            \n",
       "6.1       NaN   NaN   NaN   NaN   0.2   NaN   NaN   NaN   NaN   NaN\n",
       "6.2       NaN   NaN   0.0   NaN   NaN   NaN   NaN   NaN   NaN   NaN\n",
       "7.6       NaN   2.8   NaN   NaN   NaN   NaN   NaN   NaN   NaN   NaN\n",
       "8.0       NaN   NaN   NaN   NaN   NaN   NaN   NaN   NaN   0.0   NaN\n",
       "8.3       NaN   NaN   NaN   0.0   NaN   NaN   NaN   NaN   NaN   NaN\n",
       "8.4       NaN   NaN   NaN   NaN   NaN   NaN  16.2   NaN   NaN   NaN"
      ]
     },
     "execution_count": 22,
     "metadata": {},
     "output_type": "execute_result"
    }
   ],
   "source": [
    "#2\n",
    "## Start the code here\n",
    "pivot.iloc[0:6]\n",
    "## End here"
   ]
  },
  {
   "cell_type": "code",
   "execution_count": 20,
   "metadata": {},
   "outputs": [
    {
     "name": "stdout",
     "output_type": "stream",
     "text": [
      "MaxTemp\n",
      "15.5    39.8\n",
      "16.1     2.8\n",
      "16.9     0.0\n",
      "17.0     0.0\n",
      "18.2     0.2\n",
      "19.5     0.0\n",
      "22.8    16.2\n",
      "23.4     3.6\n",
      "24.3     0.0\n",
      "26.9     3.6\n",
      "dtype: float64\n",
      "MinTemp\n",
      "6.1      0.2\n",
      "6.2      0.0\n",
      "7.6      2.8\n",
      "8.0      0.0\n",
      "8.3      0.0\n",
      "8.4     16.2\n",
      "8.8      0.0\n",
      "13.3    39.8\n",
      "13.7     3.6\n",
      "14.0     3.6\n",
      "dtype: float64\n"
     ]
    }
   ],
   "source": [
    "#3\n",
    "## Start the code here\n",
    "ind_mean=pivot.mean(axis=\"index\")\n",
    "col_mean=pivot.mean(axis=\"columns\")\n",
    "print(ind_mean)\n",
    "print(col_mean)\n",
    "## End here"
   ]
  },
  {
   "cell_type": "markdown",
   "metadata": {},
   "source": [
    "# Creating & Visualizing Dataframes\n",
    "\n",
    "## Visualizing your data"
   ]
  },
  {
   "cell_type": "markdown",
   "metadata": {},
   "source": [
    "Solve the questions: (5 marks)\n",
    "\n",
    "Q1. Plot histogram of **\"Rainfall\"** keeping bins as 25 and show it.\n",
    "\n",
    "**Bar plots**\n",
    "\n",
    "Q2. Assign **\"Rainfall\"** & **\"RainToday\"** to df and perform bar plot.\n",
    "\n",
    "**Line plot**\n",
    "\n",
    "Q3. Assign **\"RainToday\"** and **\"WindGustSpeed\"** to df1 and perform line plot\n",
    "\n",
    "**Layering plots** \n",
    "\n",
    "Q4. Layer the plots keeping the dataframe as **\"RainTomorrow\" & \"Rainfall\"** and also add a **legend(\"Yes\",\"No\")**\n",
    "\n",
    "Q5. Add Transperancy , i.e alpha of 0.5"
   ]
  },
  {
   "cell_type": "code",
   "execution_count": 42,
   "metadata": {},
   "outputs": [],
   "source": [
    "# import matplotlib and pandas \n",
    "import pandas as pd\n",
    "import matplotlib.pyplot as plt\n",
    "weather=pd.read_csv(\"weather.csv\")\n",
    "\n",
    "\n",
    "# read the weather data\n"
   ]
  },
  {
   "cell_type": "code",
   "execution_count": 29,
   "metadata": {},
   "outputs": [
    {
     "data": {
      "image/png": "[encoded data removed]",
      "text/plain": [
       "<Figure size 432x288 with 1 Axes>"
      ]
     },
     "metadata": {
      "needs_background": "light"
     },
     "output_type": "display_data"
    }
   ],
   "source": [
    "#1\n",
    "## Start the code here\n",
    "plt.hist(weather[\"Rainfall\"],bins=25)\n",
    "plt.show()\n",
    "## End here"
   ]
  },
  {
   "cell_type": "code",
   "execution_count": 34,
   "metadata": {},
   "outputs": [
    {
     "data": {
      "image/png": "[encoded data removed]",
      "text/plain": [
       "<Figure size 432x288 with 1 Axes>"
      ]
     },
     "metadata": {
      "needs_background": "light"
     },
     "output_type": "display_data"
    }
   ],
   "source": [
    "#2\n",
    "## Start the code here\n",
    "fig,ax = plt.subplots()\n",
    "ax.bar(weather[\"RainToday\"],weather[\"Rainfall\"])\n",
    "plt.show()\n",
    "## End here"
   ]
  },
  {
   "cell_type": "code",
   "execution_count": 38,
   "metadata": {},
   "outputs": [
    {
     "data": {
      "image/png": "[encoded data removed]",
      "text/plain": [
       "<Figure size 432x288 with 1 Axes>"
      ]
     },
     "metadata": {
      "needs_background": "light"
     },
     "output_type": "display_data"
    }
   ],
   "source": [
    "#3\n",
    "## Start the code here\n",
    "fig,ax = plt.subplots()\n",
    "ax.plot(weather[\"RainToday\"],weather[\"WindGustSpeed\"])\n",
    "plt.show()\n",
    "## End here"
   ]
  },
  {
   "cell_type": "code",
   "execution_count": 15,
   "metadata": {},
   "outputs": [
    {
     "data": {
      "image/png": "[encoded data removed]",
      "text/plain": [
       "<Figure size 432x288 with 1 Axes>"
      ]
     },
     "metadata": {
      "needs_background": "light"
     },
     "output_type": "display_data"
    }
   ],
   "source": [
    "#4\n",
    "## Start the code here\n",
    "import matplotlib.pyplot as plt\n",
    "weather[weather[\"RainTomorrow\"]==\"Yes\"][\"Rainfall\"].hist()\n",
    "weather[weather[\"RainTomorrow\"]==\"No\"][\"Rainfall\"].hist()\n",
    "plt.legend([\"Yes\",\"No\"])\n",
    "plt.show()\n",
    "## End here"
   ]
  },
  {
   "cell_type": "code",
   "execution_count": 16,
   "metadata": {},
   "outputs": [
    {
     "data": {
      "image/png": "[encoded data removed]",
      "text/plain": [
       "<Figure size 432x288 with 1 Axes>"
      ]
     },
     "metadata": {
      "needs_background": "light"
     },
     "output_type": "display_data"
    }
   ],
   "source": [
    "#5\n",
    "## Start the code here\n",
    "weather[weather[\"RainTomorrow\"]==\"Yes\"][\"Rainfall\"].hist(alpha=0.5)\n",
    "weather[weather[\"RainTomorrow\"]==\"No\"][\"Rainfall\"].hist(alpha=0.5)\n",
    "plt.legend([\"Yes\",\"No\"])\n",
    "plt.show()\n",
    "## End here"
   ]
  },
  {
   "cell_type": "markdown",
   "metadata": {},
   "source": [
    "# Mising Values\n",
    "\n",
    "Solve the questions: (5 marks)\n",
    "\n",
    "Q1. Detect the missing values\n",
    "\n",
    "Q2. Count the missing values.\n",
    "\n",
    "Q3. Plot the missing values using bar plot\n",
    "\n",
    "Q4. Drop the missing values.\n",
    "\n",
    "Q5. Replace the missing values by 0"
   ]
  },
  {
   "cell_type": "code",
   "execution_count": 8,
   "metadata": {},
   "outputs": [],
   "source": [
    "# Read the dog dataset\n",
    "import pandas as pd\n",
    "dog=pd.read_csv(\"Dog.csv\")"
   ]
  },
  {
   "cell_type": "code",
   "execution_count": 9,
   "metadata": {},
   "outputs": [
    {
     "data": {
      "text/html": [
       "<div>\n",
       "<style scoped>\n",
       "    .dataframe tbody tr th:only-of-type {\n",
       "        vertical-align: middle;\n",
       "    }\n",
       "\n",
       "    .dataframe tbody tr th {\n",
       "        vertical-align: top;\n",
       "    }\n",
       "\n",
       "    .dataframe thead th {\n",
       "        text-align: right;\n",
       "    }\n",
       "</style>\n",
       "<table border=\"1\" class=\"dataframe\">\n",
       "  <thead>\n",
       "    <tr style=\"text-align: right;\">\n",
       "      <th></th>\n",
       "      <th>Name</th>\n",
       "      <th>Color</th>\n",
       "      <th>Height</th>\n",
       "      <th>Weight</th>\n",
       "    </tr>\n",
       "  </thead>\n",
       "  <tbody>\n",
       "    <tr>\n",
       "      <th>0</th>\n",
       "      <td>False</td>\n",
       "      <td>False</td>\n",
       "      <td>False</td>\n",
       "      <td>True</td>\n",
       "    </tr>\n",
       "    <tr>\n",
       "      <th>1</th>\n",
       "      <td>False</td>\n",
       "      <td>False</td>\n",
       "      <td>False</td>\n",
       "      <td>False</td>\n",
       "    </tr>\n",
       "    <tr>\n",
       "      <th>2</th>\n",
       "      <td>False</td>\n",
       "      <td>False</td>\n",
       "      <td>False</td>\n",
       "      <td>False</td>\n",
       "    </tr>\n",
       "    <tr>\n",
       "      <th>3</th>\n",
       "      <td>False</td>\n",
       "      <td>False</td>\n",
       "      <td>False</td>\n",
       "      <td>False</td>\n",
       "    </tr>\n",
       "    <tr>\n",
       "      <th>4</th>\n",
       "      <td>False</td>\n",
       "      <td>False</td>\n",
       "      <td>False</td>\n",
       "      <td>True</td>\n",
       "    </tr>\n",
       "    <tr>\n",
       "      <th>5</th>\n",
       "      <td>False</td>\n",
       "      <td>False</td>\n",
       "      <td>False</td>\n",
       "      <td>False</td>\n",
       "    </tr>\n",
       "    <tr>\n",
       "      <th>6</th>\n",
       "      <td>False</td>\n",
       "      <td>False</td>\n",
       "      <td>False</td>\n",
       "      <td>True</td>\n",
       "    </tr>\n",
       "  </tbody>\n",
       "</table>\n",
       "</div>"
      ],
      "text/plain": [
       "    Name  Color  Height  Weight\n",
       "0  False  False   False    True\n",
       "1  False  False   False   False\n",
       "2  False  False   False   False\n",
       "3  False  False   False   False\n",
       "4  False  False   False    True\n",
       "5  False  False   False   False\n",
       "6  False  False   False    True"
      ]
     },
     "execution_count": 9,
     "metadata": {},
     "output_type": "execute_result"
    }
   ],
   "source": [
    "#1\n",
    "## Start the code here\n",
    "dog.isna()\n",
    "## End here"
   ]
  },
  {
   "cell_type": "code",
   "execution_count": 10,
   "metadata": {},
   "outputs": [
    {
     "data": {
      "text/plain": [
       "Name      0\n",
       "Color     0\n",
       "Height    0\n",
       "Weight    3\n",
       "dtype: int64"
      ]
     },
     "execution_count": 10,
     "metadata": {},
     "output_type": "execute_result"
    }
   ],
   "source": [
    "#2\n",
    "## Start the code here\n",
    "dog.isna().sum()\n",
    "## End here"
   ]
  },
  {
   "cell_type": "code",
   "execution_count": 11,
   "metadata": {},
   "outputs": [
    {
     "data": {
      "image/png": "[encoded data removed]",
      "text/plain": [
       "<Figure size 432x288 with 1 Axes>"
      ]
     },
     "metadata": {
      "needs_background": "light"
     },
     "output_type": "display_data"
    }
   ],
   "source": [
    "#3\n",
    "## Start the code here\n",
    "import matplotlib.pyplot as plt\n",
    "dog.isna().sum().plot(kind=\"bar\")\n",
    "plt.show()\n",
    "## End here"
   ]
  },
  {
   "cell_type": "code",
   "execution_count": 12,
   "metadata": {},
   "outputs": [
    {
     "data": {
      "text/html": [
       "<div>\n",
       "<style scoped>\n",
       "    .dataframe tbody tr th:only-of-type {\n",
       "        vertical-align: middle;\n",
       "    }\n",
       "\n",
       "    .dataframe tbody tr th {\n",
       "        vertical-align: top;\n",
       "    }\n",
       "\n",
       "    .dataframe thead th {\n",
       "        text-align: right;\n",
       "    }\n",
       "</style>\n",
       "<table border=\"1\" class=\"dataframe\">\n",
       "  <thead>\n",
       "    <tr style=\"text-align: right;\">\n",
       "      <th></th>\n",
       "      <th>Name</th>\n",
       "      <th>Color</th>\n",
       "      <th>Height</th>\n",
       "      <th>Weight</th>\n",
       "    </tr>\n",
       "  </thead>\n",
       "  <tbody>\n",
       "    <tr>\n",
       "      <th>1</th>\n",
       "      <td>Max</td>\n",
       "      <td>Brown</td>\n",
       "      <td>46</td>\n",
       "      <td>45.0</td>\n",
       "    </tr>\n",
       "    <tr>\n",
       "      <th>2</th>\n",
       "      <td>Stella</td>\n",
       "      <td>Tan</td>\n",
       "      <td>56</td>\n",
       "      <td>34.0</td>\n",
       "    </tr>\n",
       "    <tr>\n",
       "      <th>3</th>\n",
       "      <td>Bernie</td>\n",
       "      <td>White</td>\n",
       "      <td>78</td>\n",
       "      <td>50.0</td>\n",
       "    </tr>\n",
       "    <tr>\n",
       "      <th>5</th>\n",
       "      <td>Stuffy</td>\n",
       "      <td>White</td>\n",
       "      <td>43</td>\n",
       "      <td>45.0</td>\n",
       "    </tr>\n",
       "  </tbody>\n",
       "</table>\n",
       "</div>"
      ],
      "text/plain": [
       "     Name  Color  Height  Weight\n",
       "1     Max  Brown      46    45.0\n",
       "2  Stella    Tan      56    34.0\n",
       "3  Bernie  White      78    50.0\n",
       "5  Stuffy  White      43    45.0"
      ]
     },
     "execution_count": 12,
     "metadata": {},
     "output_type": "execute_result"
    }
   ],
   "source": [
    "#4\n",
    "## Start the code here\n",
    "dog.dropna()\n",
    "## End here"
   ]
  },
  {
   "cell_type": "code",
   "execution_count": 13,
   "metadata": {},
   "outputs": [
    {
     "data": {
      "text/html": [
       "<div>\n",
       "<style scoped>\n",
       "    .dataframe tbody tr th:only-of-type {\n",
       "        vertical-align: middle;\n",
       "    }\n",
       "\n",
       "    .dataframe tbody tr th {\n",
       "        vertical-align: top;\n",
       "    }\n",
       "\n",
       "    .dataframe thead th {\n",
       "        text-align: right;\n",
       "    }\n",
       "</style>\n",
       "<table border=\"1\" class=\"dataframe\">\n",
       "  <thead>\n",
       "    <tr style=\"text-align: right;\">\n",
       "      <th></th>\n",
       "      <th>Name</th>\n",
       "      <th>Color</th>\n",
       "      <th>Height</th>\n",
       "      <th>Weight</th>\n",
       "    </tr>\n",
       "  </thead>\n",
       "  <tbody>\n",
       "    <tr>\n",
       "      <th>0</th>\n",
       "      <td>Lucy</td>\n",
       "      <td>Black</td>\n",
       "      <td>43</td>\n",
       "      <td>0.0</td>\n",
       "    </tr>\n",
       "    <tr>\n",
       "      <th>1</th>\n",
       "      <td>Max</td>\n",
       "      <td>Brown</td>\n",
       "      <td>46</td>\n",
       "      <td>45.0</td>\n",
       "    </tr>\n",
       "    <tr>\n",
       "      <th>2</th>\n",
       "      <td>Stella</td>\n",
       "      <td>Tan</td>\n",
       "      <td>56</td>\n",
       "      <td>34.0</td>\n",
       "    </tr>\n",
       "    <tr>\n",
       "      <th>3</th>\n",
       "      <td>Bernie</td>\n",
       "      <td>White</td>\n",
       "      <td>78</td>\n",
       "      <td>50.0</td>\n",
       "    </tr>\n",
       "    <tr>\n",
       "      <th>4</th>\n",
       "      <td>Charlie</td>\n",
       "      <td>black</td>\n",
       "      <td>38</td>\n",
       "      <td>0.0</td>\n",
       "    </tr>\n",
       "    <tr>\n",
       "      <th>5</th>\n",
       "      <td>Stuffy</td>\n",
       "      <td>White</td>\n",
       "      <td>43</td>\n",
       "      <td>45.0</td>\n",
       "    </tr>\n",
       "    <tr>\n",
       "      <th>6</th>\n",
       "      <td>Ran</td>\n",
       "      <td>brown</td>\n",
       "      <td>54</td>\n",
       "      <td>0.0</td>\n",
       "    </tr>\n",
       "  </tbody>\n",
       "</table>\n",
       "</div>"
      ],
      "text/plain": [
       "      Name  Color  Height  Weight\n",
       "0     Lucy  Black      43     0.0\n",
       "1      Max  Brown      46    45.0\n",
       "2   Stella    Tan      56    34.0\n",
       "3   Bernie  White      78    50.0\n",
       "4  Charlie  black      38     0.0\n",
       "5   Stuffy  White      43    45.0\n",
       "6      Ran  brown      54     0.0"
      ]
     },
     "execution_count": 13,
     "metadata": {},
     "output_type": "execute_result"
    }
   ],
   "source": [
    "#5\n",
    "## Start the code here\n",
    "dog.fillna(0)\n",
    "## End here"
   ]
  },
  {
   "cell_type": "markdown",
   "metadata": {},
   "source": [
    "## The End"
   ]
  }
 ],
 "metadata": {
  "kernelspec": {
   "display_name": "Python 3",
   "language": "python",
   "name": "python3"
  },
  "language_info": {
   "codemirror_mode": {
    "name": "ipython",
    "version": 3
   },
   "file_extension": ".py",
   "mimetype": "text/x-python",
   "name": "python",
   "nbconvert_exporter": "python",
   "pygments_lexer": "ipython3",
   "version": "3.7.6"
  }
 },
 "nbformat": 4,
 "nbformat_minor": 4
}
