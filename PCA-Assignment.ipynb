{
 "cells": [
  {
   "cell_type": "markdown",
   "metadata": {},
   "source": [
    "# Dermatology Database \n",
    "**(40 marks)**"
   ]
  },
  {
   "cell_type": "markdown",
   "metadata": {},
   "source": [
    " * This database contains 34 attributes, 33 of which are linear\n",
    "   valued and one of them is nominal. \n",
    "\n",
    "\n",
    " * The differential diagnosis of erythemato-squamous diseases is a real\n",
    "   problem in dermatology. They all share the clinical features of\n",
    "   erythema and scaling, with very little differences. The diseases in\n",
    "   this group are psoriasis, seboreic dermatitis, lichen planus, \n",
    "   pityriasis rosea, cronic dermatitis, and pityriasis rubra pilaris.\n",
    "   Usually a biopsy is necessary for the diagnosis but unfortunately\n",
    "   these diseases share many histopathological features as\n",
    "   well. Another difficulty for the differential diagnosis is that a\n",
    "   disease may show the features of another disease at the beginning\n",
    "   stage and may have the characteristic features at the following stages. \n",
    "   Patients were first evaluated clinically with 12 features.\n",
    "   Afterwards, skin samples were taken for the evaluation of 22\n",
    "   histopathological features. The values of the histopathological features\n",
    "   are determined by an analysis of the samples under a microscope. \n",
    "\n",
    "\n",
    " * In the dataset constructed for this domain, the family history feature\n",
    "   has the value 1 if any of these diseases has been observed in the\n",
    "   family, and 0 otherwise. The age feature simply represents the age of\n",
    "   the patient. Every other feature (clinical and histopathological) was\n",
    "   given a degree in the range of 0 to 3. Here, 0 indicates that the\n",
    "   feature was not present, 3 indicates the largest amount possible,\n",
    "   and 1, 2 indicate the relative intermediate values."
   ]
  },
  {
   "cell_type": "markdown",
   "metadata": {},
   "source": [
    " * The Dataset is taken from here - [Dermatology Dataset](https://archive.ics.uci.edu/ml/datasets/dermatology)"
   ]
  },
  {
   "cell_type": "markdown",
   "metadata": {},
   "source": [
    "# Steps Involved:"
   ]
  },
  {
   "cell_type": "markdown",
   "metadata": {},
   "source": [
    " 1. Importing the library\n",
    " 2. Loading the Dataset\n",
    " 3. Structure of the Dataset\n",
    " 4. Exploration of Dataset\n",
    "  * Statistics\n",
    "  * Data Cleaning\n",
    "  * Heat Map\n",
    " 5. PCA Implementation\n",
    " 6. Machine learning Model\n",
    "  * Splitting the Dataset\n",
    "  * Training the Model\n",
    "  * Prediction\n",
    "  * Model Score"
   ]
  },
  {
   "cell_type": "markdown",
   "metadata": {},
   "source": [
    "# 1. Importing the library"
   ]
  },
  {
   "cell_type": "code",
   "execution_count": 1,
   "metadata": {},
   "outputs": [],
   "source": [
    "# Q1. Import all the required Packages like numpy ,pandas , plotting , etc.\n",
    "import pandas as pd\n",
    "import numpy as np\n",
    "import matplotlib.pyplot as plt\n",
    "from sklearn.decomposition import PCA\n",
    "import seaborn as sns\n",
    "from sklearn.preprocessing import StandardScaler\n",
    "from sklearn.model_selection import train_test_split"
   ]
  },
  {
   "cell_type": "markdown",
   "metadata": {},
   "source": [
    "# 2. Loading the Dataset "
   ]
  },
  {
   "cell_type": "code",
   "execution_count": 2,
   "metadata": {},
   "outputs": [
    {
     "data": {
      "text/html": [
       "<div>\n",
       "<style scoped>\n",
       "    .dataframe tbody tr th:only-of-type {\n",
       "        vertical-align: middle;\n",
       "    }\n",
       "\n",
       "    .dataframe tbody tr th {\n",
       "        vertical-align: top;\n",
       "    }\n",
       "\n",
       "    .dataframe thead th {\n",
       "        text-align: right;\n",
       "    }\n",
       "</style>\n",
       "<table border=\"1\" class=\"dataframe\">\n",
       "  <thead>\n",
       "    <tr style=\"text-align: right;\">\n",
       "      <th></th>\n",
       "      <th>2</th>\n",
       "      <th>2.1</th>\n",
       "      <th>0</th>\n",
       "      <th>3</th>\n",
       "      <th>0.1</th>\n",
       "      <th>0.2</th>\n",
       "      <th>0.3</th>\n",
       "      <th>0.4</th>\n",
       "      <th>1</th>\n",
       "      <th>0.5</th>\n",
       "      <th>...</th>\n",
       "      <th>0.19</th>\n",
       "      <th>0.20</th>\n",
       "      <th>3.2</th>\n",
       "      <th>0.21</th>\n",
       "      <th>0.22</th>\n",
       "      <th>0.23</th>\n",
       "      <th>1.1</th>\n",
       "      <th>0.24</th>\n",
       "      <th>55</th>\n",
       "      <th>2.3</th>\n",
       "    </tr>\n",
       "  </thead>\n",
       "  <tbody>\n",
       "    <tr>\n",
       "      <th>0</th>\n",
       "      <td>3</td>\n",
       "      <td>3</td>\n",
       "      <td>3</td>\n",
       "      <td>2</td>\n",
       "      <td>1</td>\n",
       "      <td>0</td>\n",
       "      <td>0</td>\n",
       "      <td>0</td>\n",
       "      <td>1</td>\n",
       "      <td>1</td>\n",
       "      <td>...</td>\n",
       "      <td>0</td>\n",
       "      <td>0</td>\n",
       "      <td>0</td>\n",
       "      <td>0</td>\n",
       "      <td>0</td>\n",
       "      <td>0</td>\n",
       "      <td>1</td>\n",
       "      <td>0</td>\n",
       "      <td>8</td>\n",
       "      <td>1</td>\n",
       "    </tr>\n",
       "    <tr>\n",
       "      <th>1</th>\n",
       "      <td>2</td>\n",
       "      <td>1</td>\n",
       "      <td>2</td>\n",
       "      <td>3</td>\n",
       "      <td>1</td>\n",
       "      <td>3</td>\n",
       "      <td>0</td>\n",
       "      <td>3</td>\n",
       "      <td>0</td>\n",
       "      <td>0</td>\n",
       "      <td>...</td>\n",
       "      <td>0</td>\n",
       "      <td>2</td>\n",
       "      <td>3</td>\n",
       "      <td>2</td>\n",
       "      <td>0</td>\n",
       "      <td>0</td>\n",
       "      <td>2</td>\n",
       "      <td>3</td>\n",
       "      <td>26</td>\n",
       "      <td>3</td>\n",
       "    </tr>\n",
       "    <tr>\n",
       "      <th>2</th>\n",
       "      <td>2</td>\n",
       "      <td>2</td>\n",
       "      <td>2</td>\n",
       "      <td>0</td>\n",
       "      <td>0</td>\n",
       "      <td>0</td>\n",
       "      <td>0</td>\n",
       "      <td>0</td>\n",
       "      <td>3</td>\n",
       "      <td>2</td>\n",
       "      <td>...</td>\n",
       "      <td>3</td>\n",
       "      <td>0</td>\n",
       "      <td>0</td>\n",
       "      <td>0</td>\n",
       "      <td>0</td>\n",
       "      <td>0</td>\n",
       "      <td>3</td>\n",
       "      <td>0</td>\n",
       "      <td>40</td>\n",
       "      <td>1</td>\n",
       "    </tr>\n",
       "    <tr>\n",
       "      <th>3</th>\n",
       "      <td>2</td>\n",
       "      <td>3</td>\n",
       "      <td>2</td>\n",
       "      <td>2</td>\n",
       "      <td>2</td>\n",
       "      <td>2</td>\n",
       "      <td>0</td>\n",
       "      <td>2</td>\n",
       "      <td>0</td>\n",
       "      <td>0</td>\n",
       "      <td>...</td>\n",
       "      <td>2</td>\n",
       "      <td>3</td>\n",
       "      <td>2</td>\n",
       "      <td>3</td>\n",
       "      <td>0</td>\n",
       "      <td>0</td>\n",
       "      <td>2</td>\n",
       "      <td>3</td>\n",
       "      <td>45</td>\n",
       "      <td>3</td>\n",
       "    </tr>\n",
       "    <tr>\n",
       "      <th>4</th>\n",
       "      <td>2</td>\n",
       "      <td>3</td>\n",
       "      <td>2</td>\n",
       "      <td>0</td>\n",
       "      <td>0</td>\n",
       "      <td>0</td>\n",
       "      <td>0</td>\n",
       "      <td>0</td>\n",
       "      <td>0</td>\n",
       "      <td>0</td>\n",
       "      <td>...</td>\n",
       "      <td>0</td>\n",
       "      <td>0</td>\n",
       "      <td>2</td>\n",
       "      <td>0</td>\n",
       "      <td>0</td>\n",
       "      <td>0</td>\n",
       "      <td>1</td>\n",
       "      <td>0</td>\n",
       "      <td>41</td>\n",
       "      <td>2</td>\n",
       "    </tr>\n",
       "    <tr>\n",
       "      <th>...</th>\n",
       "      <td>...</td>\n",
       "      <td>...</td>\n",
       "      <td>...</td>\n",
       "      <td>...</td>\n",
       "      <td>...</td>\n",
       "      <td>...</td>\n",
       "      <td>...</td>\n",
       "      <td>...</td>\n",
       "      <td>...</td>\n",
       "      <td>...</td>\n",
       "      <td>...</td>\n",
       "      <td>...</td>\n",
       "      <td>...</td>\n",
       "      <td>...</td>\n",
       "      <td>...</td>\n",
       "      <td>...</td>\n",
       "      <td>...</td>\n",
       "      <td>...</td>\n",
       "      <td>...</td>\n",
       "      <td>...</td>\n",
       "      <td>...</td>\n",
       "    </tr>\n",
       "    <tr>\n",
       "      <th>360</th>\n",
       "      <td>2</td>\n",
       "      <td>1</td>\n",
       "      <td>1</td>\n",
       "      <td>0</td>\n",
       "      <td>1</td>\n",
       "      <td>0</td>\n",
       "      <td>0</td>\n",
       "      <td>0</td>\n",
       "      <td>0</td>\n",
       "      <td>0</td>\n",
       "      <td>...</td>\n",
       "      <td>0</td>\n",
       "      <td>0</td>\n",
       "      <td>1</td>\n",
       "      <td>0</td>\n",
       "      <td>0</td>\n",
       "      <td>0</td>\n",
       "      <td>2</td>\n",
       "      <td>0</td>\n",
       "      <td>25</td>\n",
       "      <td>4</td>\n",
       "    </tr>\n",
       "    <tr>\n",
       "      <th>361</th>\n",
       "      <td>3</td>\n",
       "      <td>2</td>\n",
       "      <td>1</td>\n",
       "      <td>0</td>\n",
       "      <td>1</td>\n",
       "      <td>0</td>\n",
       "      <td>0</td>\n",
       "      <td>0</td>\n",
       "      <td>0</td>\n",
       "      <td>0</td>\n",
       "      <td>...</td>\n",
       "      <td>1</td>\n",
       "      <td>0</td>\n",
       "      <td>1</td>\n",
       "      <td>0</td>\n",
       "      <td>0</td>\n",
       "      <td>0</td>\n",
       "      <td>2</td>\n",
       "      <td>0</td>\n",
       "      <td>36</td>\n",
       "      <td>4</td>\n",
       "    </tr>\n",
       "    <tr>\n",
       "      <th>362</th>\n",
       "      <td>3</td>\n",
       "      <td>2</td>\n",
       "      <td>2</td>\n",
       "      <td>2</td>\n",
       "      <td>3</td>\n",
       "      <td>2</td>\n",
       "      <td>0</td>\n",
       "      <td>2</td>\n",
       "      <td>0</td>\n",
       "      <td>0</td>\n",
       "      <td>...</td>\n",
       "      <td>0</td>\n",
       "      <td>3</td>\n",
       "      <td>0</td>\n",
       "      <td>3</td>\n",
       "      <td>0</td>\n",
       "      <td>0</td>\n",
       "      <td>2</td>\n",
       "      <td>3</td>\n",
       "      <td>28</td>\n",
       "      <td>3</td>\n",
       "    </tr>\n",
       "    <tr>\n",
       "      <th>363</th>\n",
       "      <td>2</td>\n",
       "      <td>1</td>\n",
       "      <td>3</td>\n",
       "      <td>1</td>\n",
       "      <td>2</td>\n",
       "      <td>3</td>\n",
       "      <td>0</td>\n",
       "      <td>2</td>\n",
       "      <td>0</td>\n",
       "      <td>0</td>\n",
       "      <td>...</td>\n",
       "      <td>0</td>\n",
       "      <td>2</td>\n",
       "      <td>0</td>\n",
       "      <td>1</td>\n",
       "      <td>0</td>\n",
       "      <td>0</td>\n",
       "      <td>2</td>\n",
       "      <td>3</td>\n",
       "      <td>50</td>\n",
       "      <td>3</td>\n",
       "    </tr>\n",
       "    <tr>\n",
       "      <th>364</th>\n",
       "      <td>3</td>\n",
       "      <td>2</td>\n",
       "      <td>2</td>\n",
       "      <td>0</td>\n",
       "      <td>0</td>\n",
       "      <td>0</td>\n",
       "      <td>0</td>\n",
       "      <td>0</td>\n",
       "      <td>3</td>\n",
       "      <td>3</td>\n",
       "      <td>...</td>\n",
       "      <td>2</td>\n",
       "      <td>0</td>\n",
       "      <td>0</td>\n",
       "      <td>0</td>\n",
       "      <td>0</td>\n",
       "      <td>0</td>\n",
       "      <td>3</td>\n",
       "      <td>0</td>\n",
       "      <td>35</td>\n",
       "      <td>1</td>\n",
       "    </tr>\n",
       "  </tbody>\n",
       "</table>\n",
       "<p>365 rows × 35 columns</p>\n",
       "</div>"
      ],
      "text/plain": [
       "     2  2.1  0  3  0.1  0.2  0.3  0.4  1  0.5  ...  0.19  0.20  3.2  0.21  \\\n",
       "0    3    3  3  2    1    0    0    0  1    1  ...     0     0    0     0   \n",
       "1    2    1  2  3    1    3    0    3  0    0  ...     0     2    3     2   \n",
       "2    2    2  2  0    0    0    0    0  3    2  ...     3     0    0     0   \n",
       "3    2    3  2  2    2    2    0    2  0    0  ...     2     3    2     3   \n",
       "4    2    3  2  0    0    0    0    0  0    0  ...     0     0    2     0   \n",
       "..  ..  ... .. ..  ...  ...  ...  ... ..  ...  ...   ...   ...  ...   ...   \n",
       "360  2    1  1  0    1    0    0    0  0    0  ...     0     0    1     0   \n",
       "361  3    2  1  0    1    0    0    0  0    0  ...     1     0    1     0   \n",
       "362  3    2  2  2    3    2    0    2  0    0  ...     0     3    0     3   \n",
       "363  2    1  3  1    2    3    0    2  0    0  ...     0     2    0     1   \n",
       "364  3    2  2  0    0    0    0    0  3    3  ...     2     0    0     0   \n",
       "\n",
       "     0.22  0.23  1.1  0.24  55  2.3  \n",
       "0       0     0    1     0   8    1  \n",
       "1       0     0    2     3  26    3  \n",
       "2       0     0    3     0  40    1  \n",
       "3       0     0    2     3  45    3  \n",
       "4       0     0    1     0  41    2  \n",
       "..    ...   ...  ...   ...  ..  ...  \n",
       "360     0     0    2     0  25    4  \n",
       "361     0     0    2     0  36    4  \n",
       "362     0     0    2     3  28    3  \n",
       "363     0     0    2     3  50    3  \n",
       "364     0     0    3     0  35    1  \n",
       "\n",
       "[365 rows x 35 columns]"
      ]
     },
     "execution_count": 2,
     "metadata": {},
     "output_type": "execute_result"
    }
   ],
   "source": [
    "# Q2. Load the dataset of Dermatology.\n",
    "der=pd.read_csv(\"dermatology.csv\")\n",
    "der"
   ]
  },
  {
   "cell_type": "markdown",
   "metadata": {},
   "source": [
    "'''If the data is taken from the numpy,try to convert it into dataframe ''';\n",
    "   \n",
    "Q3. Rename the columns in human readable form. The details of the column names can be found in description (Readme.md - Clinincal attributes) **(1 marks)**"
   ]
  },
  {
   "cell_type": "code",
   "execution_count": 3,
   "metadata": {},
   "outputs": [],
   "source": [
    "##Start code here\n",
    "der.columns=['erythema','scaling','definite borders','itching','koebner phenomenon','polygonal papules','follicular papules',\n",
    "            'oral mucosal involvement','knee and elbow involvement','scalp involvement','family history',' melanin incontinence',\n",
    "            'eosinophils in the infiltrate','PNL infiltrate',' fibrosis of the papillary dermis',' exocytosis','acanthosis',\n",
    "            'hyperkeratosis','parakeratosis','clubbing of the rete ridges','elongation of the rete ridges','thinning of the suprapapillary epidermis',\n",
    "            'spongiform pustule','munro microabcess','focal hypergranulosis','disappearance of the granular layer','vacuolisation and damage of basal layer',\n",
    "            'spongiosis','saw-tooth appearance of retes','follicular horn plug','perifollicular parakeratosis','inflammatory monoluclear inflitrate',\n",
    "            'band-like infiltrate','Age','Class code']\n",
    "##End here"
   ]
  },
  {
   "cell_type": "markdown",
   "metadata": {},
   "source": [
    "Q4. Print the column names in the dataset.**(1 marks)**"
   ]
  },
  {
   "cell_type": "code",
   "execution_count": 4,
   "metadata": {},
   "outputs": [
    {
     "data": {
      "text/plain": [
       "Index(['erythema', 'scaling', 'definite borders', 'itching',\n",
       "       'koebner phenomenon', 'polygonal papules', 'follicular papules',\n",
       "       'oral mucosal involvement', 'knee and elbow involvement',\n",
       "       'scalp involvement', 'family history', ' melanin incontinence',\n",
       "       'eosinophils in the infiltrate', 'PNL infiltrate',\n",
       "       ' fibrosis of the papillary dermis', ' exocytosis', 'acanthosis',\n",
       "       'hyperkeratosis', 'parakeratosis', 'clubbing of the rete ridges',\n",
       "       'elongation of the rete ridges',\n",
       "       'thinning of the suprapapillary epidermis', 'spongiform pustule',\n",
       "       'munro microabcess', 'focal hypergranulosis',\n",
       "       'disappearance of the granular layer',\n",
       "       'vacuolisation and damage of basal layer', 'spongiosis',\n",
       "       'saw-tooth appearance of retes', 'follicular horn plug',\n",
       "       'perifollicular parakeratosis', 'inflammatory monoluclear inflitrate',\n",
       "       'band-like infiltrate', 'Age', 'Class code'],\n",
       "      dtype='object')"
      ]
     },
     "execution_count": 4,
     "metadata": {},
     "output_type": "execute_result"
    }
   ],
   "source": [
    "##Start code here\n",
    "der.columns\n",
    "##End here"
   ]
  },
  {
   "cell_type": "markdown",
   "metadata": {},
   "source": [
    "'''The Last Column, i.e ClassCode of the plant is your target value''';\n",
    "\n",
    "Q5. Print the target value. **(1 mark)**"
   ]
  },
  {
   "cell_type": "code",
   "execution_count": 5,
   "metadata": {},
   "outputs": [
    {
     "data": {
      "text/plain": [
       "0      1\n",
       "1      3\n",
       "2      1\n",
       "3      3\n",
       "4      2\n",
       "      ..\n",
       "360    4\n",
       "361    4\n",
       "362    3\n",
       "363    3\n",
       "364    1\n",
       "Name: Class code, Length: 365, dtype: int64"
      ]
     },
     "execution_count": 5,
     "metadata": {},
     "output_type": "execute_result"
    }
   ],
   "source": [
    "##Start code here\n",
    "der['Class code']\n",
    "##End here"
   ]
  },
  {
   "cell_type": "markdown",
   "metadata": {},
   "source": [
    "Q6. Save the target value in some other variable and print it. **(1 mark)**"
   ]
  },
  {
   "cell_type": "code",
   "execution_count": 6,
   "metadata": {},
   "outputs": [
    {
     "data": {
      "text/plain": [
       "0      1\n",
       "1      3\n",
       "2      1\n",
       "3      3\n",
       "4      2\n",
       "      ..\n",
       "360    4\n",
       "361    4\n",
       "362    3\n",
       "363    3\n",
       "364    1\n",
       "Name: Class code, Length: 365, dtype: int64"
      ]
     },
     "execution_count": 6,
     "metadata": {},
     "output_type": "execute_result"
    }
   ],
   "source": [
    "##Start code here\n",
    "y=der['Class code']\n",
    "y\n",
    "##End here"
   ]
  },
  {
   "cell_type": "markdown",
   "metadata": {},
   "source": [
    "# 3. Structure of the Dataset"
   ]
  },
  {
   "cell_type": "markdown",
   "metadata": {},
   "source": [
    "Q1. Print the shape of the dataframe and target variable respectively. **(1 marks)**"
   ]
  },
  {
   "cell_type": "markdown",
   "metadata": {},
   "source": [
    "Q2. Print the describe of the dataset. **(1 marks)**"
   ]
  },
  {
   "cell_type": "code",
   "execution_count": 7,
   "metadata": {},
   "outputs": [
    {
     "name": "stdout",
     "output_type": "stream",
     "text": [
      "(365, 35)\n",
      "(365,)\n"
     ]
    }
   ],
   "source": [
    "##Start code here\n",
    "shape=der.shape\n",
    "shape1=y.shape\n",
    "print(shape)\n",
    "print(shape1)\n",
    "##End here"
   ]
  },
  {
   "cell_type": "code",
   "execution_count": 8,
   "metadata": {},
   "outputs": [
    {
     "data": {
      "text/html": [
       "<div>\n",
       "<style scoped>\n",
       "    .dataframe tbody tr th:only-of-type {\n",
       "        vertical-align: middle;\n",
       "    }\n",
       "\n",
       "    .dataframe tbody tr th {\n",
       "        vertical-align: top;\n",
       "    }\n",
       "\n",
       "    .dataframe thead th {\n",
       "        text-align: right;\n",
       "    }\n",
       "</style>\n",
       "<table border=\"1\" class=\"dataframe\">\n",
       "  <thead>\n",
       "    <tr style=\"text-align: right;\">\n",
       "      <th></th>\n",
       "      <th>erythema</th>\n",
       "      <th>scaling</th>\n",
       "      <th>definite borders</th>\n",
       "      <th>itching</th>\n",
       "      <th>koebner phenomenon</th>\n",
       "      <th>polygonal papules</th>\n",
       "      <th>follicular papules</th>\n",
       "      <th>oral mucosal involvement</th>\n",
       "      <th>knee and elbow involvement</th>\n",
       "      <th>scalp involvement</th>\n",
       "      <th>...</th>\n",
       "      <th>focal hypergranulosis</th>\n",
       "      <th>disappearance of the granular layer</th>\n",
       "      <th>vacuolisation and damage of basal layer</th>\n",
       "      <th>spongiosis</th>\n",
       "      <th>saw-tooth appearance of retes</th>\n",
       "      <th>follicular horn plug</th>\n",
       "      <th>perifollicular parakeratosis</th>\n",
       "      <th>inflammatory monoluclear inflitrate</th>\n",
       "      <th>band-like infiltrate</th>\n",
       "      <th>Class code</th>\n",
       "    </tr>\n",
       "  </thead>\n",
       "  <tbody>\n",
       "    <tr>\n",
       "      <th>count</th>\n",
       "      <td>365.000000</td>\n",
       "      <td>365.000000</td>\n",
       "      <td>365.000000</td>\n",
       "      <td>365.000000</td>\n",
       "      <td>365.000000</td>\n",
       "      <td>365.000000</td>\n",
       "      <td>365.000000</td>\n",
       "      <td>365.000000</td>\n",
       "      <td>365.000000</td>\n",
       "      <td>365.000000</td>\n",
       "      <td>...</td>\n",
       "      <td>365.000000</td>\n",
       "      <td>365.000000</td>\n",
       "      <td>365.000000</td>\n",
       "      <td>365.000000</td>\n",
       "      <td>365.000000</td>\n",
       "      <td>365.000000</td>\n",
       "      <td>365.000000</td>\n",
       "      <td>365.000000</td>\n",
       "      <td>365.000000</td>\n",
       "      <td>365.000000</td>\n",
       "    </tr>\n",
       "    <tr>\n",
       "      <th>mean</th>\n",
       "      <td>2.068493</td>\n",
       "      <td>1.794521</td>\n",
       "      <td>1.553425</td>\n",
       "      <td>1.361644</td>\n",
       "      <td>0.635616</td>\n",
       "      <td>0.449315</td>\n",
       "      <td>0.167123</td>\n",
       "      <td>0.378082</td>\n",
       "      <td>0.613699</td>\n",
       "      <td>0.520548</td>\n",
       "      <td>...</td>\n",
       "      <td>0.394521</td>\n",
       "      <td>0.465753</td>\n",
       "      <td>0.457534</td>\n",
       "      <td>0.947945</td>\n",
       "      <td>0.454795</td>\n",
       "      <td>0.104110</td>\n",
       "      <td>0.115068</td>\n",
       "      <td>1.868493</td>\n",
       "      <td>0.556164</td>\n",
       "      <td>2.805479</td>\n",
       "    </tr>\n",
       "    <tr>\n",
       "      <th>std</th>\n",
       "      <td>0.665656</td>\n",
       "      <td>0.702408</td>\n",
       "      <td>0.905126</td>\n",
       "      <td>1.136632</td>\n",
       "      <td>0.908653</td>\n",
       "      <td>0.958353</td>\n",
       "      <td>0.571304</td>\n",
       "      <td>0.835057</td>\n",
       "      <td>0.984120</td>\n",
       "      <td>0.906472</td>\n",
       "      <td>...</td>\n",
       "      <td>0.850322</td>\n",
       "      <td>0.865743</td>\n",
       "      <td>0.955884</td>\n",
       "      <td>1.126615</td>\n",
       "      <td>0.955758</td>\n",
       "      <td>0.451018</td>\n",
       "      <td>0.489357</td>\n",
       "      <td>0.725682</td>\n",
       "      <td>1.107044</td>\n",
       "      <td>1.599441</td>\n",
       "    </tr>\n",
       "    <tr>\n",
       "      <th>min</th>\n",
       "      <td>0.000000</td>\n",
       "      <td>0.000000</td>\n",
       "      <td>0.000000</td>\n",
       "      <td>0.000000</td>\n",
       "      <td>0.000000</td>\n",
       "      <td>0.000000</td>\n",
       "      <td>0.000000</td>\n",
       "      <td>0.000000</td>\n",
       "      <td>0.000000</td>\n",
       "      <td>0.000000</td>\n",
       "      <td>...</td>\n",
       "      <td>0.000000</td>\n",
       "      <td>0.000000</td>\n",
       "      <td>0.000000</td>\n",
       "      <td>0.000000</td>\n",
       "      <td>0.000000</td>\n",
       "      <td>0.000000</td>\n",
       "      <td>0.000000</td>\n",
       "      <td>0.000000</td>\n",
       "      <td>0.000000</td>\n",
       "      <td>1.000000</td>\n",
       "    </tr>\n",
       "    <tr>\n",
       "      <th>25%</th>\n",
       "      <td>2.000000</td>\n",
       "      <td>1.000000</td>\n",
       "      <td>1.000000</td>\n",
       "      <td>0.000000</td>\n",
       "      <td>0.000000</td>\n",
       "      <td>0.000000</td>\n",
       "      <td>0.000000</td>\n",
       "      <td>0.000000</td>\n",
       "      <td>0.000000</td>\n",
       "      <td>0.000000</td>\n",
       "      <td>...</td>\n",
       "      <td>0.000000</td>\n",
       "      <td>0.000000</td>\n",
       "      <td>0.000000</td>\n",
       "      <td>0.000000</td>\n",
       "      <td>0.000000</td>\n",
       "      <td>0.000000</td>\n",
       "      <td>0.000000</td>\n",
       "      <td>1.000000</td>\n",
       "      <td>0.000000</td>\n",
       "      <td>1.000000</td>\n",
       "    </tr>\n",
       "    <tr>\n",
       "      <th>50%</th>\n",
       "      <td>2.000000</td>\n",
       "      <td>2.000000</td>\n",
       "      <td>2.000000</td>\n",
       "      <td>1.000000</td>\n",
       "      <td>0.000000</td>\n",
       "      <td>0.000000</td>\n",
       "      <td>0.000000</td>\n",
       "      <td>0.000000</td>\n",
       "      <td>0.000000</td>\n",
       "      <td>0.000000</td>\n",
       "      <td>...</td>\n",
       "      <td>0.000000</td>\n",
       "      <td>0.000000</td>\n",
       "      <td>0.000000</td>\n",
       "      <td>0.000000</td>\n",
       "      <td>0.000000</td>\n",
       "      <td>0.000000</td>\n",
       "      <td>0.000000</td>\n",
       "      <td>2.000000</td>\n",
       "      <td>0.000000</td>\n",
       "      <td>3.000000</td>\n",
       "    </tr>\n",
       "    <tr>\n",
       "      <th>75%</th>\n",
       "      <td>2.000000</td>\n",
       "      <td>2.000000</td>\n",
       "      <td>2.000000</td>\n",
       "      <td>2.000000</td>\n",
       "      <td>1.000000</td>\n",
       "      <td>0.000000</td>\n",
       "      <td>0.000000</td>\n",
       "      <td>0.000000</td>\n",
       "      <td>1.000000</td>\n",
       "      <td>1.000000</td>\n",
       "      <td>...</td>\n",
       "      <td>0.000000</td>\n",
       "      <td>1.000000</td>\n",
       "      <td>0.000000</td>\n",
       "      <td>2.000000</td>\n",
       "      <td>0.000000</td>\n",
       "      <td>0.000000</td>\n",
       "      <td>0.000000</td>\n",
       "      <td>2.000000</td>\n",
       "      <td>0.000000</td>\n",
       "      <td>4.000000</td>\n",
       "    </tr>\n",
       "    <tr>\n",
       "      <th>max</th>\n",
       "      <td>3.000000</td>\n",
       "      <td>3.000000</td>\n",
       "      <td>3.000000</td>\n",
       "      <td>3.000000</td>\n",
       "      <td>3.000000</td>\n",
       "      <td>3.000000</td>\n",
       "      <td>3.000000</td>\n",
       "      <td>3.000000</td>\n",
       "      <td>3.000000</td>\n",
       "      <td>3.000000</td>\n",
       "      <td>...</td>\n",
       "      <td>3.000000</td>\n",
       "      <td>3.000000</td>\n",
       "      <td>3.000000</td>\n",
       "      <td>3.000000</td>\n",
       "      <td>3.000000</td>\n",
       "      <td>3.000000</td>\n",
       "      <td>3.000000</td>\n",
       "      <td>3.000000</td>\n",
       "      <td>3.000000</td>\n",
       "      <td>6.000000</td>\n",
       "    </tr>\n",
       "  </tbody>\n",
       "</table>\n",
       "<p>8 rows × 34 columns</p>\n",
       "</div>"
      ],
      "text/plain": [
       "         erythema     scaling  definite borders     itching  \\\n",
       "count  365.000000  365.000000        365.000000  365.000000   \n",
       "mean     2.068493    1.794521          1.553425    1.361644   \n",
       "std      0.665656    0.702408          0.905126    1.136632   \n",
       "min      0.000000    0.000000          0.000000    0.000000   \n",
       "25%      2.000000    1.000000          1.000000    0.000000   \n",
       "50%      2.000000    2.000000          2.000000    1.000000   \n",
       "75%      2.000000    2.000000          2.000000    2.000000   \n",
       "max      3.000000    3.000000          3.000000    3.000000   \n",
       "\n",
       "       koebner phenomenon  polygonal papules  follicular papules  \\\n",
       "count          365.000000         365.000000          365.000000   \n",
       "mean             0.635616           0.449315            0.167123   \n",
       "std              0.908653           0.958353            0.571304   \n",
       "min              0.000000           0.000000            0.000000   \n",
       "25%              0.000000           0.000000            0.000000   \n",
       "50%              0.000000           0.000000            0.000000   \n",
       "75%              1.000000           0.000000            0.000000   \n",
       "max              3.000000           3.000000            3.000000   \n",
       "\n",
       "       oral mucosal involvement  knee and elbow involvement  \\\n",
       "count                365.000000                  365.000000   \n",
       "mean                   0.378082                    0.613699   \n",
       "std                    0.835057                    0.984120   \n",
       "min                    0.000000                    0.000000   \n",
       "25%                    0.000000                    0.000000   \n",
       "50%                    0.000000                    0.000000   \n",
       "75%                    0.000000                    1.000000   \n",
       "max                    3.000000                    3.000000   \n",
       "\n",
       "       scalp involvement  ...  focal hypergranulosis  \\\n",
       "count         365.000000  ...             365.000000   \n",
       "mean            0.520548  ...               0.394521   \n",
       "std             0.906472  ...               0.850322   \n",
       "min             0.000000  ...               0.000000   \n",
       "25%             0.000000  ...               0.000000   \n",
       "50%             0.000000  ...               0.000000   \n",
       "75%             1.000000  ...               0.000000   \n",
       "max             3.000000  ...               3.000000   \n",
       "\n",
       "       disappearance of the granular layer  \\\n",
       "count                           365.000000   \n",
       "mean                              0.465753   \n",
       "std                               0.865743   \n",
       "min                               0.000000   \n",
       "25%                               0.000000   \n",
       "50%                               0.000000   \n",
       "75%                               1.000000   \n",
       "max                               3.000000   \n",
       "\n",
       "       vacuolisation and damage of basal layer  spongiosis  \\\n",
       "count                               365.000000  365.000000   \n",
       "mean                                  0.457534    0.947945   \n",
       "std                                   0.955884    1.126615   \n",
       "min                                   0.000000    0.000000   \n",
       "25%                                   0.000000    0.000000   \n",
       "50%                                   0.000000    0.000000   \n",
       "75%                                   0.000000    2.000000   \n",
       "max                                   3.000000    3.000000   \n",
       "\n",
       "       saw-tooth appearance of retes  follicular horn plug  \\\n",
       "count                     365.000000            365.000000   \n",
       "mean                        0.454795              0.104110   \n",
       "std                         0.955758              0.451018   \n",
       "min                         0.000000              0.000000   \n",
       "25%                         0.000000              0.000000   \n",
       "50%                         0.000000              0.000000   \n",
       "75%                         0.000000              0.000000   \n",
       "max                         3.000000              3.000000   \n",
       "\n",
       "       perifollicular parakeratosis  inflammatory monoluclear inflitrate  \\\n",
       "count                    365.000000                           365.000000   \n",
       "mean                       0.115068                             1.868493   \n",
       "std                        0.489357                             0.725682   \n",
       "min                        0.000000                             0.000000   \n",
       "25%                        0.000000                             1.000000   \n",
       "50%                        0.000000                             2.000000   \n",
       "75%                        0.000000                             2.000000   \n",
       "max                        3.000000                             3.000000   \n",
       "\n",
       "       band-like infiltrate  Class code  \n",
       "count            365.000000  365.000000  \n",
       "mean               0.556164    2.805479  \n",
       "std                1.107044    1.599441  \n",
       "min                0.000000    1.000000  \n",
       "25%                0.000000    1.000000  \n",
       "50%                0.000000    3.000000  \n",
       "75%                0.000000    4.000000  \n",
       "max                3.000000    6.000000  \n",
       "\n",
       "[8 rows x 34 columns]"
      ]
     },
     "execution_count": 8,
     "metadata": {},
     "output_type": "execute_result"
    }
   ],
   "source": [
    "##Start code here\n",
    "der.describe()\n",
    "##End here"
   ]
  },
  {
   "cell_type": "markdown",
   "metadata": {},
   "source": [
    "## Missing or Null Points"
   ]
  },
  {
   "cell_type": "markdown",
   "metadata": {},
   "source": [
    "Q1.Check for null value in the features. **(1 marks)**"
   ]
  },
  {
   "cell_type": "markdown",
   "metadata": {},
   "source": [
    "Q2.Check for nan value in the features. **(1 marks)**"
   ]
  },
  {
   "cell_type": "code",
   "execution_count": 9,
   "metadata": {},
   "outputs": [
    {
     "name": "stdout",
     "output_type": "stream",
     "text": [
      "     erythema  scaling  definite borders  itching  koebner phenomenon  \\\n",
      "0       False    False             False    False               False   \n",
      "1       False    False             False    False               False   \n",
      "2       False    False             False    False               False   \n",
      "3       False    False             False    False               False   \n",
      "4       False    False             False    False               False   \n",
      "..        ...      ...               ...      ...                 ...   \n",
      "360     False    False             False    False               False   \n",
      "361     False    False             False    False               False   \n",
      "362     False    False             False    False               False   \n",
      "363     False    False             False    False               False   \n",
      "364     False    False             False    False               False   \n",
      "\n",
      "     polygonal papules  follicular papules  oral mucosal involvement  \\\n",
      "0                False               False                     False   \n",
      "1                False               False                     False   \n",
      "2                False               False                     False   \n",
      "3                False               False                     False   \n",
      "4                False               False                     False   \n",
      "..                 ...                 ...                       ...   \n",
      "360              False               False                     False   \n",
      "361              False               False                     False   \n",
      "362              False               False                     False   \n",
      "363              False               False                     False   \n",
      "364              False               False                     False   \n",
      "\n",
      "     knee and elbow involvement  scalp involvement  ...  \\\n",
      "0                         False              False  ...   \n",
      "1                         False              False  ...   \n",
      "2                         False              False  ...   \n",
      "3                         False              False  ...   \n",
      "4                         False              False  ...   \n",
      "..                          ...                ...  ...   \n",
      "360                       False              False  ...   \n",
      "361                       False              False  ...   \n",
      "362                       False              False  ...   \n",
      "363                       False              False  ...   \n",
      "364                       False              False  ...   \n",
      "\n",
      "     disappearance of the granular layer  \\\n",
      "0                                  False   \n",
      "1                                  False   \n",
      "2                                  False   \n",
      "3                                  False   \n",
      "4                                  False   \n",
      "..                                   ...   \n",
      "360                                False   \n",
      "361                                False   \n",
      "362                                False   \n",
      "363                                False   \n",
      "364                                False   \n",
      "\n",
      "     vacuolisation and damage of basal layer  spongiosis  \\\n",
      "0                                      False       False   \n",
      "1                                      False       False   \n",
      "2                                      False       False   \n",
      "3                                      False       False   \n",
      "4                                      False       False   \n",
      "..                                       ...         ...   \n",
      "360                                    False       False   \n",
      "361                                    False       False   \n",
      "362                                    False       False   \n",
      "363                                    False       False   \n",
      "364                                    False       False   \n",
      "\n",
      "     saw-tooth appearance of retes  follicular horn plug  \\\n",
      "0                            False                 False   \n",
      "1                            False                 False   \n",
      "2                            False                 False   \n",
      "3                            False                 False   \n",
      "4                            False                 False   \n",
      "..                             ...                   ...   \n",
      "360                          False                 False   \n",
      "361                          False                 False   \n",
      "362                          False                 False   \n",
      "363                          False                 False   \n",
      "364                          False                 False   \n",
      "\n",
      "     perifollicular parakeratosis  inflammatory monoluclear inflitrate  \\\n",
      "0                           False                                False   \n",
      "1                           False                                False   \n",
      "2                           False                                False   \n",
      "3                           False                                False   \n",
      "4                           False                                False   \n",
      "..                            ...                                  ...   \n",
      "360                         False                                False   \n",
      "361                         False                                False   \n",
      "362                         False                                False   \n",
      "363                         False                                False   \n",
      "364                         False                                False   \n",
      "\n",
      "     band-like infiltrate    Age  Class code  \n",
      "0                   False  False       False  \n",
      "1                   False  False       False  \n",
      "2                   False  False       False  \n",
      "3                   False  False       False  \n",
      "4                   False  False       False  \n",
      "..                    ...    ...         ...  \n",
      "360                 False  False       False  \n",
      "361                 False  False       False  \n",
      "362                 False  False       False  \n",
      "363                 False  False       False  \n",
      "364                 False  False       False  \n",
      "\n",
      "[365 rows x 35 columns]\n"
     ]
    }
   ],
   "source": [
    "##Start code here\n",
    "null=der.isnull()\n",
    "print(null)\n",
    "der.fillna(method=\"ffill\",inplace=True)\n",
    "##End here"
   ]
  },
  {
   "cell_type": "code",
   "execution_count": 70,
   "metadata": {},
   "outputs": [
    {
     "name": "stdout",
     "output_type": "stream",
     "text": [
      "     erythema  scaling  definite borders  itching  koebner phenomenon  \\\n",
      "0       False    False             False    False               False   \n",
      "1       False    False             False    False               False   \n",
      "2       False    False             False    False               False   \n",
      "3       False    False             False    False               False   \n",
      "4       False    False             False    False               False   \n",
      "..        ...      ...               ...      ...                 ...   \n",
      "360     False    False             False    False               False   \n",
      "361     False    False             False    False               False   \n",
      "362     False    False             False    False               False   \n",
      "363     False    False             False    False               False   \n",
      "364     False    False             False    False               False   \n",
      "\n",
      "     polygonal papules  follicular papules  oral mucosal involvement  \\\n",
      "0                False               False                     False   \n",
      "1                False               False                     False   \n",
      "2                False               False                     False   \n",
      "3                False               False                     False   \n",
      "4                False               False                     False   \n",
      "..                 ...                 ...                       ...   \n",
      "360              False               False                     False   \n",
      "361              False               False                     False   \n",
      "362              False               False                     False   \n",
      "363              False               False                     False   \n",
      "364              False               False                     False   \n",
      "\n",
      "     knee and elbow involvement  scalp involvement  ...  \\\n",
      "0                         False              False  ...   \n",
      "1                         False              False  ...   \n",
      "2                         False              False  ...   \n",
      "3                         False              False  ...   \n",
      "4                         False              False  ...   \n",
      "..                          ...                ...  ...   \n",
      "360                       False              False  ...   \n",
      "361                       False              False  ...   \n",
      "362                       False              False  ...   \n",
      "363                       False              False  ...   \n",
      "364                       False              False  ...   \n",
      "\n",
      "     disappearance of the granular layer  \\\n",
      "0                                  False   \n",
      "1                                  False   \n",
      "2                                  False   \n",
      "3                                  False   \n",
      "4                                  False   \n",
      "..                                   ...   \n",
      "360                                False   \n",
      "361                                False   \n",
      "362                                False   \n",
      "363                                False   \n",
      "364                                False   \n",
      "\n",
      "     vacuolisation and damage of basal layer  spongiosis  \\\n",
      "0                                      False       False   \n",
      "1                                      False       False   \n",
      "2                                      False       False   \n",
      "3                                      False       False   \n",
      "4                                      False       False   \n",
      "..                                       ...         ...   \n",
      "360                                    False       False   \n",
      "361                                    False       False   \n",
      "362                                    False       False   \n",
      "363                                    False       False   \n",
      "364                                    False       False   \n",
      "\n",
      "     saw-tooth appearance of retes  follicular horn plug  \\\n",
      "0                            False                 False   \n",
      "1                            False                 False   \n",
      "2                            False                 False   \n",
      "3                            False                 False   \n",
      "4                            False                 False   \n",
      "..                             ...                   ...   \n",
      "360                          False                 False   \n",
      "361                          False                 False   \n",
      "362                          False                 False   \n",
      "363                          False                 False   \n",
      "364                          False                 False   \n",
      "\n",
      "     perifollicular parakeratosis  inflammatory monoluclear inflitrate  \\\n",
      "0                           False                                False   \n",
      "1                           False                                False   \n",
      "2                           False                                False   \n",
      "3                           False                                False   \n",
      "4                           False                                False   \n",
      "..                            ...                                  ...   \n",
      "360                         False                                False   \n",
      "361                         False                                False   \n",
      "362                         False                                False   \n",
      "363                         False                                False   \n",
      "364                         False                                False   \n",
      "\n",
      "     band-like infiltrate    Age  Class code  \n",
      "0                   False  False       False  \n",
      "1                   False  False       False  \n",
      "2                   False  False       False  \n",
      "3                   False  False       False  \n",
      "4                   False  False       False  \n",
      "..                    ...    ...         ...  \n",
      "360                 False  False       False  \n",
      "361                 False  False       False  \n",
      "362                 False  False       False  \n",
      "363                 False  False       False  \n",
      "364                 False  False       False  \n",
      "\n",
      "[365 rows x 35 columns]\n"
     ]
    },
    {
     "data": {
      "text/html": [
       "<div>\n",
       "<style scoped>\n",
       "    .dataframe tbody tr th:only-of-type {\n",
       "        vertical-align: middle;\n",
       "    }\n",
       "\n",
       "    .dataframe tbody tr th {\n",
       "        vertical-align: top;\n",
       "    }\n",
       "\n",
       "    .dataframe thead th {\n",
       "        text-align: right;\n",
       "    }\n",
       "</style>\n",
       "<table border=\"1\" class=\"dataframe\">\n",
       "  <thead>\n",
       "    <tr style=\"text-align: right;\">\n",
       "      <th></th>\n",
       "      <th>erythema</th>\n",
       "      <th>scaling</th>\n",
       "      <th>definite borders</th>\n",
       "      <th>itching</th>\n",
       "      <th>koebner phenomenon</th>\n",
       "      <th>polygonal papules</th>\n",
       "      <th>follicular papules</th>\n",
       "      <th>oral mucosal involvement</th>\n",
       "      <th>knee and elbow involvement</th>\n",
       "      <th>scalp involvement</th>\n",
       "      <th>...</th>\n",
       "      <th>disappearance of the granular layer</th>\n",
       "      <th>vacuolisation and damage of basal layer</th>\n",
       "      <th>spongiosis</th>\n",
       "      <th>saw-tooth appearance of retes</th>\n",
       "      <th>follicular horn plug</th>\n",
       "      <th>perifollicular parakeratosis</th>\n",
       "      <th>inflammatory monoluclear inflitrate</th>\n",
       "      <th>band-like infiltrate</th>\n",
       "      <th>Age</th>\n",
       "      <th>Class code</th>\n",
       "    </tr>\n",
       "  </thead>\n",
       "  <tbody>\n",
       "    <tr>\n",
       "      <th>0</th>\n",
       "      <td>3</td>\n",
       "      <td>3</td>\n",
       "      <td>3</td>\n",
       "      <td>2</td>\n",
       "      <td>1</td>\n",
       "      <td>0</td>\n",
       "      <td>0</td>\n",
       "      <td>0</td>\n",
       "      <td>1</td>\n",
       "      <td>1</td>\n",
       "      <td>...</td>\n",
       "      <td>0</td>\n",
       "      <td>0</td>\n",
       "      <td>0</td>\n",
       "      <td>0</td>\n",
       "      <td>0</td>\n",
       "      <td>0</td>\n",
       "      <td>1</td>\n",
       "      <td>0</td>\n",
       "      <td>8</td>\n",
       "      <td>1</td>\n",
       "    </tr>\n",
       "    <tr>\n",
       "      <th>1</th>\n",
       "      <td>2</td>\n",
       "      <td>1</td>\n",
       "      <td>2</td>\n",
       "      <td>3</td>\n",
       "      <td>1</td>\n",
       "      <td>3</td>\n",
       "      <td>0</td>\n",
       "      <td>3</td>\n",
       "      <td>0</td>\n",
       "      <td>0</td>\n",
       "      <td>...</td>\n",
       "      <td>0</td>\n",
       "      <td>2</td>\n",
       "      <td>3</td>\n",
       "      <td>2</td>\n",
       "      <td>0</td>\n",
       "      <td>0</td>\n",
       "      <td>2</td>\n",
       "      <td>3</td>\n",
       "      <td>26</td>\n",
       "      <td>3</td>\n",
       "    </tr>\n",
       "    <tr>\n",
       "      <th>2</th>\n",
       "      <td>2</td>\n",
       "      <td>2</td>\n",
       "      <td>2</td>\n",
       "      <td>0</td>\n",
       "      <td>0</td>\n",
       "      <td>0</td>\n",
       "      <td>0</td>\n",
       "      <td>0</td>\n",
       "      <td>3</td>\n",
       "      <td>2</td>\n",
       "      <td>...</td>\n",
       "      <td>3</td>\n",
       "      <td>0</td>\n",
       "      <td>0</td>\n",
       "      <td>0</td>\n",
       "      <td>0</td>\n",
       "      <td>0</td>\n",
       "      <td>3</td>\n",
       "      <td>0</td>\n",
       "      <td>40</td>\n",
       "      <td>1</td>\n",
       "    </tr>\n",
       "    <tr>\n",
       "      <th>3</th>\n",
       "      <td>2</td>\n",
       "      <td>3</td>\n",
       "      <td>2</td>\n",
       "      <td>2</td>\n",
       "      <td>2</td>\n",
       "      <td>2</td>\n",
       "      <td>0</td>\n",
       "      <td>2</td>\n",
       "      <td>0</td>\n",
       "      <td>0</td>\n",
       "      <td>...</td>\n",
       "      <td>2</td>\n",
       "      <td>3</td>\n",
       "      <td>2</td>\n",
       "      <td>3</td>\n",
       "      <td>0</td>\n",
       "      <td>0</td>\n",
       "      <td>2</td>\n",
       "      <td>3</td>\n",
       "      <td>45</td>\n",
       "      <td>3</td>\n",
       "    </tr>\n",
       "    <tr>\n",
       "      <th>4</th>\n",
       "      <td>2</td>\n",
       "      <td>3</td>\n",
       "      <td>2</td>\n",
       "      <td>0</td>\n",
       "      <td>0</td>\n",
       "      <td>0</td>\n",
       "      <td>0</td>\n",
       "      <td>0</td>\n",
       "      <td>0</td>\n",
       "      <td>0</td>\n",
       "      <td>...</td>\n",
       "      <td>0</td>\n",
       "      <td>0</td>\n",
       "      <td>2</td>\n",
       "      <td>0</td>\n",
       "      <td>0</td>\n",
       "      <td>0</td>\n",
       "      <td>1</td>\n",
       "      <td>0</td>\n",
       "      <td>41</td>\n",
       "      <td>2</td>\n",
       "    </tr>\n",
       "    <tr>\n",
       "      <th>...</th>\n",
       "      <td>...</td>\n",
       "      <td>...</td>\n",
       "      <td>...</td>\n",
       "      <td>...</td>\n",
       "      <td>...</td>\n",
       "      <td>...</td>\n",
       "      <td>...</td>\n",
       "      <td>...</td>\n",
       "      <td>...</td>\n",
       "      <td>...</td>\n",
       "      <td>...</td>\n",
       "      <td>...</td>\n",
       "      <td>...</td>\n",
       "      <td>...</td>\n",
       "      <td>...</td>\n",
       "      <td>...</td>\n",
       "      <td>...</td>\n",
       "      <td>...</td>\n",
       "      <td>...</td>\n",
       "      <td>...</td>\n",
       "      <td>...</td>\n",
       "    </tr>\n",
       "    <tr>\n",
       "      <th>360</th>\n",
       "      <td>2</td>\n",
       "      <td>1</td>\n",
       "      <td>1</td>\n",
       "      <td>0</td>\n",
       "      <td>1</td>\n",
       "      <td>0</td>\n",
       "      <td>0</td>\n",
       "      <td>0</td>\n",
       "      <td>0</td>\n",
       "      <td>0</td>\n",
       "      <td>...</td>\n",
       "      <td>0</td>\n",
       "      <td>0</td>\n",
       "      <td>1</td>\n",
       "      <td>0</td>\n",
       "      <td>0</td>\n",
       "      <td>0</td>\n",
       "      <td>2</td>\n",
       "      <td>0</td>\n",
       "      <td>25</td>\n",
       "      <td>4</td>\n",
       "    </tr>\n",
       "    <tr>\n",
       "      <th>361</th>\n",
       "      <td>3</td>\n",
       "      <td>2</td>\n",
       "      <td>1</td>\n",
       "      <td>0</td>\n",
       "      <td>1</td>\n",
       "      <td>0</td>\n",
       "      <td>0</td>\n",
       "      <td>0</td>\n",
       "      <td>0</td>\n",
       "      <td>0</td>\n",
       "      <td>...</td>\n",
       "      <td>1</td>\n",
       "      <td>0</td>\n",
       "      <td>1</td>\n",
       "      <td>0</td>\n",
       "      <td>0</td>\n",
       "      <td>0</td>\n",
       "      <td>2</td>\n",
       "      <td>0</td>\n",
       "      <td>36</td>\n",
       "      <td>4</td>\n",
       "    </tr>\n",
       "    <tr>\n",
       "      <th>362</th>\n",
       "      <td>3</td>\n",
       "      <td>2</td>\n",
       "      <td>2</td>\n",
       "      <td>2</td>\n",
       "      <td>3</td>\n",
       "      <td>2</td>\n",
       "      <td>0</td>\n",
       "      <td>2</td>\n",
       "      <td>0</td>\n",
       "      <td>0</td>\n",
       "      <td>...</td>\n",
       "      <td>0</td>\n",
       "      <td>3</td>\n",
       "      <td>0</td>\n",
       "      <td>3</td>\n",
       "      <td>0</td>\n",
       "      <td>0</td>\n",
       "      <td>2</td>\n",
       "      <td>3</td>\n",
       "      <td>28</td>\n",
       "      <td>3</td>\n",
       "    </tr>\n",
       "    <tr>\n",
       "      <th>363</th>\n",
       "      <td>2</td>\n",
       "      <td>1</td>\n",
       "      <td>3</td>\n",
       "      <td>1</td>\n",
       "      <td>2</td>\n",
       "      <td>3</td>\n",
       "      <td>0</td>\n",
       "      <td>2</td>\n",
       "      <td>0</td>\n",
       "      <td>0</td>\n",
       "      <td>...</td>\n",
       "      <td>0</td>\n",
       "      <td>2</td>\n",
       "      <td>0</td>\n",
       "      <td>1</td>\n",
       "      <td>0</td>\n",
       "      <td>0</td>\n",
       "      <td>2</td>\n",
       "      <td>3</td>\n",
       "      <td>50</td>\n",
       "      <td>3</td>\n",
       "    </tr>\n",
       "    <tr>\n",
       "      <th>364</th>\n",
       "      <td>3</td>\n",
       "      <td>2</td>\n",
       "      <td>2</td>\n",
       "      <td>0</td>\n",
       "      <td>0</td>\n",
       "      <td>0</td>\n",
       "      <td>0</td>\n",
       "      <td>0</td>\n",
       "      <td>3</td>\n",
       "      <td>3</td>\n",
       "      <td>...</td>\n",
       "      <td>2</td>\n",
       "      <td>0</td>\n",
       "      <td>0</td>\n",
       "      <td>0</td>\n",
       "      <td>0</td>\n",
       "      <td>0</td>\n",
       "      <td>3</td>\n",
       "      <td>0</td>\n",
       "      <td>35</td>\n",
       "      <td>1</td>\n",
       "    </tr>\n",
       "  </tbody>\n",
       "</table>\n",
       "<p>365 rows × 35 columns</p>\n",
       "</div>"
      ],
      "text/plain": [
       "     erythema  scaling  definite borders  itching  koebner phenomenon  \\\n",
       "0           3        3                 3        2                   1   \n",
       "1           2        1                 2        3                   1   \n",
       "2           2        2                 2        0                   0   \n",
       "3           2        3                 2        2                   2   \n",
       "4           2        3                 2        0                   0   \n",
       "..        ...      ...               ...      ...                 ...   \n",
       "360         2        1                 1        0                   1   \n",
       "361         3        2                 1        0                   1   \n",
       "362         3        2                 2        2                   3   \n",
       "363         2        1                 3        1                   2   \n",
       "364         3        2                 2        0                   0   \n",
       "\n",
       "     polygonal papules  follicular papules  oral mucosal involvement  \\\n",
       "0                    0                   0                         0   \n",
       "1                    3                   0                         3   \n",
       "2                    0                   0                         0   \n",
       "3                    2                   0                         2   \n",
       "4                    0                   0                         0   \n",
       "..                 ...                 ...                       ...   \n",
       "360                  0                   0                         0   \n",
       "361                  0                   0                         0   \n",
       "362                  2                   0                         2   \n",
       "363                  3                   0                         2   \n",
       "364                  0                   0                         0   \n",
       "\n",
       "     knee and elbow involvement  scalp involvement  ...  \\\n",
       "0                             1                  1  ...   \n",
       "1                             0                  0  ...   \n",
       "2                             3                  2  ...   \n",
       "3                             0                  0  ...   \n",
       "4                             0                  0  ...   \n",
       "..                          ...                ...  ...   \n",
       "360                           0                  0  ...   \n",
       "361                           0                  0  ...   \n",
       "362                           0                  0  ...   \n",
       "363                           0                  0  ...   \n",
       "364                           3                  3  ...   \n",
       "\n",
       "     disappearance of the granular layer  \\\n",
       "0                                      0   \n",
       "1                                      0   \n",
       "2                                      3   \n",
       "3                                      2   \n",
       "4                                      0   \n",
       "..                                   ...   \n",
       "360                                    0   \n",
       "361                                    1   \n",
       "362                                    0   \n",
       "363                                    0   \n",
       "364                                    2   \n",
       "\n",
       "     vacuolisation and damage of basal layer  spongiosis  \\\n",
       "0                                          0           0   \n",
       "1                                          2           3   \n",
       "2                                          0           0   \n",
       "3                                          3           2   \n",
       "4                                          0           2   \n",
       "..                                       ...         ...   \n",
       "360                                        0           1   \n",
       "361                                        0           1   \n",
       "362                                        3           0   \n",
       "363                                        2           0   \n",
       "364                                        0           0   \n",
       "\n",
       "     saw-tooth appearance of retes  follicular horn plug  \\\n",
       "0                                0                     0   \n",
       "1                                2                     0   \n",
       "2                                0                     0   \n",
       "3                                3                     0   \n",
       "4                                0                     0   \n",
       "..                             ...                   ...   \n",
       "360                              0                     0   \n",
       "361                              0                     0   \n",
       "362                              3                     0   \n",
       "363                              1                     0   \n",
       "364                              0                     0   \n",
       "\n",
       "     perifollicular parakeratosis  inflammatory monoluclear inflitrate  \\\n",
       "0                               0                                    1   \n",
       "1                               0                                    2   \n",
       "2                               0                                    3   \n",
       "3                               0                                    2   \n",
       "4                               0                                    1   \n",
       "..                            ...                                  ...   \n",
       "360                             0                                    2   \n",
       "361                             0                                    2   \n",
       "362                             0                                    2   \n",
       "363                             0                                    2   \n",
       "364                             0                                    3   \n",
       "\n",
       "     band-like infiltrate  Age  Class code  \n",
       "0                       0    8           1  \n",
       "1                       3   26           3  \n",
       "2                       0   40           1  \n",
       "3                       3   45           3  \n",
       "4                       0   41           2  \n",
       "..                    ...  ...         ...  \n",
       "360                     0   25           4  \n",
       "361                     0   36           4  \n",
       "362                     3   28           3  \n",
       "363                     3   50           3  \n",
       "364                     0   35           1  \n",
       "\n",
       "[365 rows x 35 columns]"
      ]
     },
     "execution_count": 70,
     "metadata": {},
     "output_type": "execute_result"
    }
   ],
   "source": [
    "##Start code here\n",
    "na=der.isna()\n",
    "print(na)\n",
    "der.fillna(der.mean())\n",
    "##End here"
   ]
  },
  {
   "cell_type": "markdown",
   "metadata": {},
   "source": [
    "**'''Check whether you get any null value or nan value''';**\n",
    "\n",
    "**#If found try to avoid that, and if not proceed to next step**"
   ]
  },
  {
   "cell_type": "markdown",
   "metadata": {},
   "source": [
    "# 4. Exploration of the Dataset\n",
    "\n",
    "## Statistics\n",
    "\n",
    "For our very first coding implementation, we will calculate descriptive statistics about the Dermatology Dataset. Since numpy has already been imported for us, using this library to perform the necessary calculations. These statistics will be extremely important later on to analyze various prediction results from the constructed model.\n",
    "\n",
    "In the code cell below, we will need to implement the following:\n",
    "\n",
    " * Calculate the minimum, maximum, mean, median, and Unique of 'ClassCode'.\n",
    " * Store each calculation in their respective variable."
   ]
  },
  {
   "cell_type": "code",
   "execution_count": 10,
   "metadata": {},
   "outputs": [
    {
     "name": "stdout",
     "output_type": "stream",
     "text": [
      "1\n",
      "6\n",
      "2.8054794520547945\n",
      "3.0\n",
      "[1 3 2 5 4 6]\n"
     ]
    }
   ],
   "source": [
    "# Q1. Find the Mininum of the 'ClassCode'.(1 marks)\n",
    "Min=y.min()\n",
    "\n",
    "# Q2. Find the Maximum of the 'ClassCode'.(1 marks)\n",
    "Max=y.max()\n",
    "\n",
    "# Q3. Find the Mean of the 'ClassCode'.(1 marks)\n",
    "Mean=y.mean()\n",
    "\n",
    "# Q4. Find the Median of the 'ClassCode'.(1 marks)\n",
    "Median=y.median()\n",
    "# Q5. Find the Unique of the 'ClassCode'.(1 marks)\n",
    "u=y.unique()\n",
    "# Print all the calculated statistics above.\n",
    "print(Min)\n",
    "print(Max)\n",
    "print(Mean)\n",
    "print(Median)\n",
    "print(u)"
   ]
  },
  {
   "cell_type": "markdown",
   "metadata": {},
   "source": [
    "After statistics analysis, go for the graphical representation"
   ]
  },
  {
   "cell_type": "markdown",
   "metadata": {},
   "source": [
    "Q6. Use displot from seaborn on the target value.(1 marks)"
   ]
  },
  {
   "cell_type": "code",
   "execution_count": 11,
   "metadata": {},
   "outputs": [
    {
     "data": {
      "image/png": "[encoded data removed]",
      "text/plain": [
       "<Figure size 432x288 with 1 Axes>"
      ]
     },
     "metadata": {
      "needs_background": "light"
     },
     "output_type": "display_data"
    }
   ],
   "source": [
    "##Start code here\n",
    "sns.distplot(y)\n",
    "plt.show()\n",
    "##End here"
   ]
  },
  {
   "cell_type": "markdown",
   "metadata": {},
   "source": [
    "'''Get some observation from the above graph and perform the filteration at this level, if you found.''';"
   ]
  },
  {
   "cell_type": "markdown",
   "metadata": {},
   "source": [
    "Q7. Use value_counts on the target variable to count its value.(1 marks)"
   ]
  },
  {
   "cell_type": "code",
   "execution_count": 12,
   "metadata": {},
   "outputs": [
    {
     "data": {
      "text/plain": [
       "1    112\n",
       "3     72\n",
       "2     60\n",
       "5     52\n",
       "4     49\n",
       "6     20\n",
       "Name: Class code, dtype: int64"
      ]
     },
     "execution_count": 12,
     "metadata": {},
     "output_type": "execute_result"
    }
   ],
   "source": [
    "##Start code here\n",
    "y.value_counts()\n",
    "##End here"
   ]
  },
  {
   "cell_type": "markdown",
   "metadata": {},
   "source": [
    "## Data Cleaning\n",
    "**(3 marks)**\n",
    "\n",
    "Some part of the data has issues. Like the Age column."
   ]
  },
  {
   "cell_type": "markdown",
   "metadata": {},
   "source": [
    "Q1. Check for any feature that needs to be resolve. Hint: Check for \"?\" in feature, search for it. (1 marks)"
   ]
  },
  {
   "cell_type": "markdown",
   "metadata": {},
   "source": [
    "Q2. Replace those values with nan.(1 marks)"
   ]
  },
  {
   "cell_type": "markdown",
   "metadata": {},
   "source": [
    "Q3. Replace nan with other statistics, like mean, mode etc.(1 marks)"
   ]
  },
  {
   "cell_type": "code",
   "execution_count": 19,
   "metadata": {},
   "outputs": [
    {
     "name": "stdout",
     "output_type": "stream",
     "text": [
      "<class 'pandas.core.frame.DataFrame'>\n",
      "RangeIndex: 365 entries, 0 to 364\n",
      "Data columns (total 95 columns):\n",
      " #   Column                                    Non-Null Count  Dtype\n",
      "---  ------                                    --------------  -----\n",
      " 0   erythema                                  365 non-null    int64\n",
      " 1   scaling                                   365 non-null    int64\n",
      " 2   definite borders                          365 non-null    int64\n",
      " 3   itching                                   365 non-null    int64\n",
      " 4   koebner phenomenon                        365 non-null    int64\n",
      " 5   polygonal papules                         365 non-null    int64\n",
      " 6   follicular papules                        365 non-null    int64\n",
      " 7   oral mucosal involvement                  365 non-null    int64\n",
      " 8   knee and elbow involvement                365 non-null    int64\n",
      " 9   scalp involvement                         365 non-null    int64\n",
      " 10  family history                            365 non-null    int64\n",
      " 11   melanin incontinence                     365 non-null    int64\n",
      " 12  eosinophils in the infiltrate             365 non-null    int64\n",
      " 13  PNL infiltrate                            365 non-null    int64\n",
      " 14   fibrosis of the papillary dermis         365 non-null    int64\n",
      " 15   exocytosis                               365 non-null    int64\n",
      " 16  acanthosis                                365 non-null    int64\n",
      " 17  hyperkeratosis                            365 non-null    int64\n",
      " 18  parakeratosis                             365 non-null    int64\n",
      " 19  clubbing of the rete ridges               365 non-null    int64\n",
      " 20  elongation of the rete ridges             365 non-null    int64\n",
      " 21  thinning of the suprapapillary epidermis  365 non-null    int64\n",
      " 22  spongiform pustule                        365 non-null    int64\n",
      " 23  munro microabcess                         365 non-null    int64\n",
      " 24  focal hypergranulosis                     365 non-null    int64\n",
      " 25  disappearance of the granular layer       365 non-null    int64\n",
      " 26  vacuolisation and damage of basal layer   365 non-null    int64\n",
      " 27  spongiosis                                365 non-null    int64\n",
      " 28  saw-tooth appearance of retes             365 non-null    int64\n",
      " 29  follicular horn plug                      365 non-null    int64\n",
      " 30  perifollicular parakeratosis              365 non-null    int64\n",
      " 31  inflammatory monoluclear inflitrate       365 non-null    int64\n",
      " 32  band-like infiltrate                      365 non-null    int64\n",
      " 33  Class code                                365 non-null    int64\n",
      " 34  Age_0                                     365 non-null    uint8\n",
      " 35  Age_10                                    365 non-null    uint8\n",
      " 36  Age_12                                    365 non-null    uint8\n",
      " 37  Age_13                                    365 non-null    uint8\n",
      " 38  Age_15                                    365 non-null    uint8\n",
      " 39  Age_16                                    365 non-null    uint8\n",
      " 40  Age_17                                    365 non-null    uint8\n",
      " 41  Age_18                                    365 non-null    uint8\n",
      " 42  Age_19                                    365 non-null    uint8\n",
      " 43  Age_20                                    365 non-null    uint8\n",
      " 44  Age_21                                    365 non-null    uint8\n",
      " 45  Age_22                                    365 non-null    uint8\n",
      " 46  Age_23                                    365 non-null    uint8\n",
      " 47  Age_24                                    365 non-null    uint8\n",
      " 48  Age_25                                    365 non-null    uint8\n",
      " 49  Age_26                                    365 non-null    uint8\n",
      " 50  Age_27                                    365 non-null    uint8\n",
      " 51  Age_28                                    365 non-null    uint8\n",
      " 52  Age_29                                    365 non-null    uint8\n",
      " 53  Age_30                                    365 non-null    uint8\n",
      " 54  Age_31                                    365 non-null    uint8\n",
      " 55  Age_32                                    365 non-null    uint8\n",
      " 56  Age_33                                    365 non-null    uint8\n",
      " 57  Age_34                                    365 non-null    uint8\n",
      " 58  Age_35                                    365 non-null    uint8\n",
      " 59  Age_36                                    365 non-null    uint8\n",
      " 60  Age_37                                    365 non-null    uint8\n",
      " 61  Age_38                                    365 non-null    uint8\n",
      " 62  Age_39                                    365 non-null    uint8\n",
      " 63  Age_40                                    365 non-null    uint8\n",
      " 64  Age_41                                    365 non-null    uint8\n",
      " 65  Age_42                                    365 non-null    uint8\n",
      " 66  Age_43                                    365 non-null    uint8\n",
      " 67  Age_44                                    365 non-null    uint8\n",
      " 68  Age_45                                    365 non-null    uint8\n",
      " 69  Age_46                                    365 non-null    uint8\n",
      " 70  Age_47                                    365 non-null    uint8\n",
      " 71  Age_48                                    365 non-null    uint8\n",
      " 72  Age_49                                    365 non-null    uint8\n",
      " 73  Age_50                                    365 non-null    uint8\n",
      " 74  Age_51                                    365 non-null    uint8\n",
      " 75  Age_52                                    365 non-null    uint8\n",
      " 76  Age_53                                    365 non-null    uint8\n",
      " 77  Age_55                                    365 non-null    uint8\n",
      " 78  Age_56                                    365 non-null    uint8\n",
      " 79  Age_57                                    365 non-null    uint8\n",
      " 80  Age_58                                    365 non-null    uint8\n",
      " 81  Age_60                                    365 non-null    uint8\n",
      " 82  Age_61                                    365 non-null    uint8\n",
      " 83  Age_62                                    365 non-null    uint8\n",
      " 84  Age_63                                    365 non-null    uint8\n",
      " 85  Age_64                                    365 non-null    uint8\n",
      " 86  Age_65                                    365 non-null    uint8\n",
      " 87  Age_67                                    365 non-null    uint8\n",
      " 88  Age_68                                    365 non-null    uint8\n",
      " 89  Age_7                                     365 non-null    uint8\n",
      " 90  Age_70                                    365 non-null    uint8\n",
      " 91  Age_75                                    365 non-null    uint8\n",
      " 92  Age_8                                     365 non-null    uint8\n",
      " 93  Age_9                                     365 non-null    uint8\n",
      " 94  Age_?                                     365 non-null    uint8\n",
      "dtypes: int64(34), uint8(61)\n",
      "memory usage: 118.8 KB\n"
     ]
    }
   ],
   "source": [
    "##Start code here\n",
    "der.info()\n",
    "\n",
    "##End here"
   ]
  },
  {
   "cell_type": "code",
   "execution_count": 14,
   "metadata": {},
   "outputs": [],
   "source": [
    "##Start code here\n",
    "der=der.replace('?',np.nan)\n",
    "\n",
    "##End here"
   ]
  },
  {
   "cell_type": "code",
   "execution_count": 15,
   "metadata": {
    "scrolled": true
   },
   "outputs": [],
   "source": [
    "##Start code here\n",
    "der.fillna(der.mode(),inplace=True)\n",
    "##End here"
   ]
  },
  {
   "cell_type": "markdown",
   "metadata": {},
   "source": [
    "## Heat Map"
   ]
  },
  {
   "cell_type": "markdown",
   "metadata": {},
   "source": [
    "'''Check for Correlation in the Dataset''';"
   ]
  },
  {
   "cell_type": "markdown",
   "metadata": {},
   "source": [
    "Q1. Use heat map in the seaborn library to get the correlation graph. **(1 marks)**"
   ]
  },
  {
   "cell_type": "code",
   "execution_count": 18,
   "metadata": {},
   "outputs": [
    {
     "data": {
      "image/png": "[encoded data removed]",
      "text/plain": [
       "<Figure size 432x288 with 2 Axes>"
      ]
     },
     "metadata": {
      "needs_background": "light"
     },
     "output_type": "display_data"
    }
   ],
   "source": [
    "##Start code here\n",
    "sns.heatmap(der.corr())\n",
    "plt.show()\n",
    "##End here"
   ]
  },
  {
   "cell_type": "markdown",
   "metadata": {},
   "source": [
    "A heat map uses a warm-to-cool color spectrum to show dataset analytics, namely which parts of data receive the most attention.\n",
    "\n",
    "The correlation coefficient ranges from -1 to 1. If the value is close to 1, it means that there is a strong positive correlation between the two variables. When it is close to -1, the variables have a strong negative correlation."
   ]
  },
  {
   "cell_type": "markdown",
   "metadata": {},
   "source": [
    "**Is there any relations among the features?**"
   ]
  },
  {
   "cell_type": "markdown",
   "metadata": {},
   "source": [
    "'''Try to get some correlation from the above graph, and try to use the features \n",
    "   only with the more positive correlation and more correlation''';"
   ]
  },
  {
   "cell_type": "markdown",
   "metadata": {},
   "source": [
    "# 5. PCA Implementation"
   ]
  },
  {
   "cell_type": "markdown",
   "metadata": {},
   "source": [
    "#The Class code column is the value that needs to be predicted from the analysis. \n",
    "\n",
    "Q1. Hence you will have to split X and y(Features and labels) based on this information.**(1 marks)**"
   ]
  },
  {
   "cell_type": "code",
   "execution_count": 20,
   "metadata": {},
   "outputs": [],
   "source": [
    "##Start code here\n",
    "X=der.drop('Class code',axis=1)\n",
    "y=der['Class code']\n",
    "##End here"
   ]
  },
  {
   "cell_type": "markdown",
   "metadata": {},
   "source": [
    "Q2. Use the Standard Scaler fit transform.**(1 marks)**"
   ]
  },
  {
   "cell_type": "code",
   "execution_count": 21,
   "metadata": {},
   "outputs": [],
   "source": [
    "##Start code here\n",
    "scaled_data=StandardScaler().fit_transform(der)\n",
    "##End here"
   ]
  },
  {
   "cell_type": "markdown",
   "metadata": {},
   "source": [
    "Q3. print the scaled_data.**(1 marks)**"
   ]
  },
  {
   "cell_type": "code",
   "execution_count": 22,
   "metadata": {},
   "outputs": [
    {
     "data": {
      "text/plain": [
       "array([[ 1.40130251,  1.71856645,  1.60039684, ...,  7.15142343,\n",
       "        -0.07422696, -0.14969624],\n",
       "       [-0.10303695, -1.13269152,  0.4940619 , ..., -0.1398323 ,\n",
       "        -0.07422696, -0.14969624],\n",
       "       [-0.10303695,  0.29293746,  0.4940619 , ..., -0.1398323 ,\n",
       "        -0.07422696, -0.14969624],\n",
       "       ...,\n",
       "       [ 1.40130251,  0.29293746,  0.4940619 , ..., -0.1398323 ,\n",
       "        -0.07422696, -0.14969624],\n",
       "       [-0.10303695, -1.13269152,  1.60039684, ..., -0.1398323 ,\n",
       "        -0.07422696, -0.14969624],\n",
       "       [ 1.40130251,  0.29293746,  0.4940619 , ..., -0.1398323 ,\n",
       "        -0.07422696, -0.14969624]])"
      ]
     },
     "execution_count": 22,
     "metadata": {},
     "output_type": "execute_result"
    }
   ],
   "source": [
    "##Start code here\n",
    "scaled_data\n",
    "##End here"
   ]
  },
  {
   "cell_type": "markdown",
   "metadata": {},
   "source": [
    "## The Algebra for PCA\n",
    "\n",
    " * Calculating the covarience matrix. \n",
    " * Calculating the eigen values and eigen vectors.\n",
    " * Forming Principal Components. \n",
    " * Projection into the new features space.\n",
    "\n",
    "### a). Calculating the covarience matrix\n",
    "\n",
    " * Covarience matrix is a matrix of variances and covariances(or correlations) among every pair of the m variable.\n",
    " * It is square, symmetric matrix.\n",
    " * Covarience matrix (S) = X.T* X, we can find it by using numpy matmul() function in python."
   ]
  },
  {
   "cell_type": "markdown",
   "metadata": {},
   "source": [
    "Q1. Find the covarience matrix which is : X.T*X .**(1 marks)**"
   ]
  },
  {
   "cell_type": "markdown",
   "metadata": {},
   "source": [
    "Q2. Perform the Matrix multiplication using numpy.**(1 marks)**"
   ]
  },
  {
   "cell_type": "markdown",
   "metadata": {},
   "source": [
    "Q3. Print the shape of variance matrix.**(1 marks)**"
   ]
  },
  {
   "cell_type": "code",
   "execution_count": 41,
   "metadata": {},
   "outputs": [
    {
     "data": {
      "text/plain": [
       "array([[ 0.89812557, -0.15474706,  0.14939575, ..., -0.13696549,\n",
       "        -0.1354465 ,  0.13062895],\n",
       "       [-0.15474706,  1.71922024, -0.19209337, ...,  0.30118226,\n",
       "         0.32305395, -0.19714548],\n",
       "       [ 0.14939575, -0.19209337,  0.76236314, ..., -0.26985395,\n",
       "        -0.21001759,  0.34084442],\n",
       "       ...,\n",
       "       [-0.13696549,  0.30118226, -0.26985395, ...,  1.55958537,\n",
       "         0.43723393, -0.22588721],\n",
       "       [-0.1354465 ,  0.32305395, -0.21001759, ...,  0.43723393,\n",
       "         0.7200091 , -0.18999594],\n",
       "       [ 0.13062895, -0.19714548,  0.34084442, ..., -0.22588721,\n",
       "        -0.18999594,  0.75442742]])"
      ]
     },
     "execution_count": 41,
     "metadata": {},
     "output_type": "execute_result"
    }
   ],
   "source": [
    "##Start code here\n",
    "cov_matrix=np.cov(scaled_data,bias=True)\n",
    "cov_matrix\n",
    "##End here"
   ]
  },
  {
   "cell_type": "code",
   "execution_count": 40,
   "metadata": {},
   "outputs": [
    {
     "data": {
      "text/plain": [
       "array([[365.        , 158.99639988,  95.13887217, ...,  16.67816616,\n",
       "         -2.79156369, -36.45327177],\n",
       "       [158.99639988, 365.        , 131.70893627, ...,   4.55654817,\n",
       "          7.93650812, -42.41549495],\n",
       "       [ 95.13887217, 131.70893627, 365.        , ..., -23.18310395,\n",
       "         13.38554065, -56.12250452],\n",
       "       ...,\n",
       "       [ 16.67816616,   4.55654817, -23.18310395, ..., 365.        ,\n",
       "         -3.78845433,  -7.64031486],\n",
       "       [ -2.79156369,   7.93650812,  13.38554065, ...,  -3.78845433,\n",
       "        365.        ,  -4.05569638],\n",
       "       [-36.45327177, -42.41549495, -56.12250452, ...,  -7.64031486,\n",
       "         -4.05569638, 365.        ]])"
      ]
     },
     "execution_count": 40,
     "metadata": {},
     "output_type": "execute_result"
    }
   ],
   "source": [
    "##Start code here\n",
    "mul=np.matmul(scaled_data.T,scaled_data)\n",
    "mul\n",
    "##End here"
   ]
  },
  {
   "cell_type": "code",
   "execution_count": 42,
   "metadata": {},
   "outputs": [
    {
     "data": {
      "text/plain": [
       "(365, 365)"
      ]
     },
     "execution_count": 42,
     "metadata": {},
     "output_type": "execute_result"
    }
   ],
   "source": [
    "##Start code here\n",
    "cov_matrix.shape\n",
    "##End here"
   ]
  },
  {
   "cell_type": "markdown",
   "metadata": {},
   "source": [
    "### b). Calculating the eigen values and eigen vectors\n",
    "\n",
    " * ƛ is an eigenvalue for a matrix X if it is a solution of the characteristic equation: det( ƛ*I - A ) = 0 Where, I is the identity matrix of the same dimension as X\n",
    " * The sum of all m eigenvalues equals the trace of S (the sum of the variances of the original variables).\n",
    " * For each eigenvalue ƛ, a corresponding eigen-vector v, can be found by solving : ( ƛ*I - A )v = 0\n",
    " * The eigenvalues, ƛ1, ƛ2, ... ƛm are the variances of the coordinates on each principal component axis."
   ]
  },
  {
   "cell_type": "code",
   "execution_count": 51,
   "metadata": {},
   "outputs": [
    {
     "data": {
      "text/plain": [
       "array([[ 0.03626231,  0.06971373,  0.156078  , ..., -0.03757246,\n",
       "        -0.01550371, -0.03925907],\n",
       "       [ 0.07907086,  0.08104707,  0.17517239, ...,  0.11246142,\n",
       "        -0.03730185, -0.00487708],\n",
       "       [ 0.05518689,  0.24929863, -0.027233  , ..., -0.01151875,\n",
       "        -0.08228829, -0.05365741],\n",
       "       ...,\n",
       "       [-0.03151908,  0.07499869, -0.01413655, ...,  0.04824898,\n",
       "         0.024687  ,  0.02982587],\n",
       "       [-0.24674224,  0.32019092, -0.0985794 , ..., -0.02161995,\n",
       "        -0.1941573 , -0.18626835],\n",
       "       [-0.31253195, -0.41123069, -0.46068993, ...,  0.16588146,\n",
       "        -0.11860008, -0.37732141]])"
      ]
     },
     "execution_count": 51,
     "metadata": {},
     "output_type": "execute_result"
    }
   ],
   "source": [
    "# Q. Find top two eigen value and corresponding eigen vectors and print it. **(1 marks)**\n",
    "#for projecting onto a 2-Dimension space.\n",
    " \n",
    "eigen_val,eigen_vector=np.linalg.eig(cov_matrix.values)\n",
    "eigen_vector\n",
    "#convert the eigen vectors into (2,d) shape for easyness of further computations. **(1 marks)**\n",
    "\n",
    "\n",
    "#the vectors[1] represent the eigen vector corresponding 1st principal eigen vector\n",
    "#the vectors[0] represent the eigen vector corresponding 2nd principal eigen vector"
   ]
  },
  {
   "cell_type": "markdown",
   "metadata": {},
   "source": [
    "### c). Forming Principal Components"
   ]
  },
  {
   "cell_type": "code",
   "execution_count": 29,
   "metadata": {},
   "outputs": [],
   "source": [
    "# Q. Project the original data sample on the plane. **(1 marks)**\n",
    "# These are formed by two principal eigen vectors by vector-vector multiplication.\n",
    "##Start code here\n",
    "\n",
    "##End here"
   ]
  },
  {
   "cell_type": "code",
   "execution_count": 30,
   "metadata": {},
   "outputs": [],
   "source": [
    "# Q. Print the new data point shape.\n",
    "##Start code here\n",
    "\n",
    "##End here"
   ]
  },
  {
   "cell_type": "markdown",
   "metadata": {},
   "source": [
    "### d). Projection into the new features space"
   ]
  },
  {
   "cell_type": "markdown",
   "metadata": {},
   "source": [
    "Q. Create the Dataframe having 1st principal & 2nd principal. **(1  marks)**\n",
    "\n",
    "Q. Create new_dataframe for plotting labeled points(i.e, target variable). **(1  marks)**"
   ]
  },
  {
   "cell_type": "code",
   "execution_count": 44,
   "metadata": {},
   "outputs": [
    {
     "data": {
      "text/html": [
       "<div>\n",
       "<style scoped>\n",
       "    .dataframe tbody tr th:only-of-type {\n",
       "        vertical-align: middle;\n",
       "    }\n",
       "\n",
       "    .dataframe tbody tr th {\n",
       "        vertical-align: top;\n",
       "    }\n",
       "\n",
       "    .dataframe thead th {\n",
       "        text-align: right;\n",
       "    }\n",
       "</style>\n",
       "<table border=\"1\" class=\"dataframe\">\n",
       "  <thead>\n",
       "    <tr style=\"text-align: right;\">\n",
       "      <th></th>\n",
       "      <th>PC1</th>\n",
       "      <th>PC2</th>\n",
       "    </tr>\n",
       "  </thead>\n",
       "  <tbody>\n",
       "    <tr>\n",
       "      <th>0</th>\n",
       "      <td>3.461725</td>\n",
       "      <td>-1.597543</td>\n",
       "    </tr>\n",
       "    <tr>\n",
       "      <th>1</th>\n",
       "      <td>-5.586988</td>\n",
       "      <td>-2.852639</td>\n",
       "    </tr>\n",
       "    <tr>\n",
       "      <th>2</th>\n",
       "      <td>4.520924</td>\n",
       "      <td>-2.682446</td>\n",
       "    </tr>\n",
       "    <tr>\n",
       "      <th>3</th>\n",
       "      <td>-4.679567</td>\n",
       "      <td>-2.922542</td>\n",
       "    </tr>\n",
       "    <tr>\n",
       "      <th>4</th>\n",
       "      <td>0.309159</td>\n",
       "      <td>0.663533</td>\n",
       "    </tr>\n",
       "  </tbody>\n",
       "</table>\n",
       "</div>"
      ],
      "text/plain": [
       "        PC1       PC2\n",
       "0  3.461725 -1.597543\n",
       "1 -5.586988 -2.852639\n",
       "2  4.520924 -2.682446\n",
       "3 -4.679567 -2.922542\n",
       "4  0.309159  0.663533"
      ]
     },
     "execution_count": 44,
     "metadata": {},
     "output_type": "execute_result"
    }
   ],
   "source": [
    "##Start code here\n",
    "pca=PCA()\n",
    "df_pca=pd.DataFrame(pca.fit_transform(scaled_data))\n",
    "df_final=df_pca.loc[:,0:1]\n",
    "df_final.columns=[\"PC1\",\"PC2\"]\n",
    "df_final.head()\n",
    "##End here"
   ]
  },
  {
   "cell_type": "code",
   "execution_count": 48,
   "metadata": {},
   "outputs": [],
   "source": [
    "##Start code here\n",
    "from sklearn.cluster import AgglomerativeClustering\n",
    "ac2=AgglomerativeClustering(n_clusters=3)\n",
    "##End here"
   ]
  },
  {
   "cell_type": "markdown",
   "metadata": {},
   "source": [
    "Q. Plot the 2d data points with seaborn. **(2 marks)**"
   ]
  },
  {
   "cell_type": "code",
   "execution_count": 49,
   "metadata": {},
   "outputs": [
    {
     "data": {
      "image/png": "[encoded data removed]",
      "text/plain": [
       "<Figure size 432x288 with 1 Axes>"
      ]
     },
     "metadata": {
      "needs_background": "light"
     },
     "output_type": "display_data"
    }
   ],
   "source": [
    "##Start code here\n",
    "plt.scatter(df_final[\"PC1\"],df_final[\"PC2\"],c=ac2.fit_predict(df_final))\n",
    "plt.show()\n",
    "##End here"
   ]
  },
  {
   "cell_type": "markdown",
   "metadata": {},
   "source": [
    "# 6. Machine learning Model "
   ]
  },
  {
   "cell_type": "code",
   "execution_count": 33,
   "metadata": {},
   "outputs": [],
   "source": [
    "'''Use any Classification Model''';"
   ]
  },
  {
   "cell_type": "markdown",
   "metadata": {},
   "source": [
    "## Splitting the Data"
   ]
  },
  {
   "cell_type": "markdown",
   "metadata": {},
   "source": [
    "Q1. Use train_test_split.**(1 marks)**\n",
    "\n",
    "'''split the data in 70:30 ratio''';"
   ]
  },
  {
   "cell_type": "code",
   "execution_count": 25,
   "metadata": {},
   "outputs": [],
   "source": [
    "##Start code here\n",
    "x_train,x_test,y_train,y_test=train_test_split(X,y,test_size=0.3,stratify=y,random_state=42)\n",
    "##End here"
   ]
  },
  {
   "cell_type": "markdown",
   "metadata": {},
   "source": [
    "Q2. Print the shape of train data. **(1 marks)**"
   ]
  },
  {
   "cell_type": "code",
   "execution_count": 26,
   "metadata": {},
   "outputs": [
    {
     "name": "stdout",
     "output_type": "stream",
     "text": [
      "(255, 94)\n",
      "(255,)\n"
     ]
    }
   ],
   "source": [
    "##Start code here\n",
    "sh=x_train.shape\n",
    "sh1=y_train.shape\n",
    "print(sh)\n",
    "print(sh1)\n",
    "##End here"
   ]
  },
  {
   "cell_type": "markdown",
   "metadata": {},
   "source": [
    "Q3. Print the shape of test_data. **(1 marks)**"
   ]
  },
  {
   "cell_type": "code",
   "execution_count": 27,
   "metadata": {},
   "outputs": [
    {
     "name": "stdout",
     "output_type": "stream",
     "text": [
      "(110, 94)\n",
      "(110,)\n"
     ]
    }
   ],
   "source": [
    "##Start code here\n",
    "s=x_test.shape\n",
    "s1=y_test.shape\n",
    "print(s)\n",
    "print(s1)\n",
    "##End here"
   ]
  },
  {
   "cell_type": "markdown",
   "metadata": {},
   "source": [
    "## Import the Classifier Model\n",
    "**(1 marks)**"
   ]
  },
  {
   "cell_type": "markdown",
   "metadata": {},
   "source": [
    "Q4. Use inbuilt classifier model from scikit"
   ]
  },
  {
   "cell_type": "markdown",
   "metadata": {},
   "source": [
    "Q5. Call the classifier"
   ]
  },
  {
   "cell_type": "code",
   "execution_count": 28,
   "metadata": {},
   "outputs": [],
   "source": [
    "##Start code here\n",
    "from sklearn.tree import DecisionTreeRegressor\n",
    "##End here"
   ]
  },
  {
   "cell_type": "code",
   "execution_count": 29,
   "metadata": {},
   "outputs": [],
   "source": [
    "##Start code here\n",
    "model= DecisionTreeRegressor()\n",
    "##End here"
   ]
  },
  {
   "cell_type": "markdown",
   "metadata": {},
   "source": [
    "## Training the Model"
   ]
  },
  {
   "cell_type": "markdown",
   "metadata": {},
   "source": [
    "Q6. Train the model on training Data using inbuilt .fit **(1 marks)**"
   ]
  },
  {
   "cell_type": "code",
   "execution_count": 30,
   "metadata": {},
   "outputs": [
    {
     "data": {
      "text/plain": [
       "DecisionTreeRegressor(ccp_alpha=0.0, criterion='mse', max_depth=None,\n",
       "                      max_features=None, max_leaf_nodes=None,\n",
       "                      min_impurity_decrease=0.0, min_impurity_split=None,\n",
       "                      min_samples_leaf=1, min_samples_split=2,\n",
       "                      min_weight_fraction_leaf=0.0, presort='deprecated',\n",
       "                      random_state=None, splitter='best')"
      ]
     },
     "execution_count": 30,
     "metadata": {},
     "output_type": "execute_result"
    }
   ],
   "source": [
    "##Start code here\n",
    "model.fit(x_train,y_train)\n",
    "##End here"
   ]
  },
  {
   "cell_type": "markdown",
   "metadata": {},
   "source": [
    "## Testing the Model"
   ]
  },
  {
   "cell_type": "markdown",
   "metadata": {},
   "source": [
    "Q7. Predict the y_predict from .predict function on X_test. **(1 marks)**"
   ]
  },
  {
   "cell_type": "code",
   "execution_count": 31,
   "metadata": {},
   "outputs": [
    {
     "data": {
      "text/plain": [
       "array([1., 1., 4., 3., 4., 4., 6., 1., 3., 5., 4., 2., 3., 3., 4., 2., 3.,\n",
       "       1., 3., 4., 2., 6., 1., 4., 4., 1., 5., 3., 4., 1., 5., 2., 6., 3.,\n",
       "       5., 1., 2., 6., 1., 1., 1., 5., 1., 1., 2., 3., 5., 1., 4., 2., 5.,\n",
       "       5., 1., 1., 4., 4., 3., 1., 3., 3., 1., 1., 4., 5., 4., 3., 1., 1.,\n",
       "       2., 1., 2., 3., 4., 3., 1., 2., 4., 1., 5., 3., 1., 1., 5., 5., 2.,\n",
       "       1., 2., 1., 1., 5., 4., 1., 4., 1., 2., 5., 4., 2., 1., 5., 1., 6.,\n",
       "       3., 3., 6., 2., 3., 1., 1., 3.])"
      ]
     },
     "execution_count": 31,
     "metadata": {},
     "output_type": "execute_result"
    }
   ],
   "source": [
    "##Start code here\n",
    "model.predict(x_test)\n",
    "##End here"
   ]
  },
  {
   "cell_type": "markdown",
   "metadata": {},
   "source": [
    "## Model Score"
   ]
  },
  {
   "cell_type": "markdown",
   "metadata": {},
   "source": [
    "Q8. Print the Model Score.**(1 marks)**"
   ]
  },
  {
   "cell_type": "markdown",
   "metadata": {},
   "source": [
    "Q9. Print the Graph related. **(1 marks)**"
   ]
  },
  {
   "cell_type": "code",
   "execution_count": 32,
   "metadata": {},
   "outputs": [
    {
     "data": {
      "text/plain": [
       "0.973152605006414"
      ]
     },
     "execution_count": 32,
     "metadata": {},
     "output_type": "execute_result"
    }
   ],
   "source": [
    "##Start code here\n",
    "score=model.score(X,y)\n",
    "score\n",
    "##End here"
   ]
  },
  {
   "cell_type": "code",
   "execution_count": 33,
   "metadata": {},
   "outputs": [
    {
     "data": {
      "image/png": "[encoded data removed]",
      "text/plain": [
       "<Figure size 432x288 with 1 Axes>"
      ]
     },
     "metadata": {
      "needs_background": "light"
     },
     "output_type": "display_data"
    }
   ],
   "source": [
    "##Start code here\n",
    "plt.hist(score)\n",
    "plt.show()\n",
    "##End here"
   ]
  },
  {
   "cell_type": "code",
   "execution_count": null,
   "metadata": {},
   "outputs": [],
   "source": []
  }
 ],
 "metadata": {
  "kernelspec": {
   "display_name": "Python 3",
   "language": "python",
   "name": "python3"
  },
  "language_info": {
   "codemirror_mode": {
    "name": "ipython",
    "version": 3
   },
   "file_extension": ".py",
   "mimetype": "text/x-python",
   "name": "python",
   "nbconvert_exporter": "python",
   "pygments_lexer": "ipython3",
   "version": "3.7.6"
  }
 },
 "nbformat": 4,
 "nbformat_minor": 4
}
